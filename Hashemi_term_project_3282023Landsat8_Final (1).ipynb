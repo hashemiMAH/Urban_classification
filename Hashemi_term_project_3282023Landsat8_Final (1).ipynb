{
 "cells": [
  {
   "cell_type": "markdown",
   "metadata": {},
   "source": [
    "## Classify Urban area USing Landsat8 in three classes : Building, Green area, Street "
   ]
  },
  {
   "cell_type": "code",
   "execution_count": 1,
   "metadata": {},
   "outputs": [
    {
     "name": "stdout",
     "output_type": "stream",
     "text": [
      "Updated by Masoumeh Hashemi,  April 29, 2023\n"
     ]
    }
   ],
   "source": [
    "from datetime import date\n",
    "today = date.today()\n",
    "d2 = today.strftime(\"%B %d, %Y\")\n",
    "print(\"Updated by Masoumeh Hashemi, \", d2) "
   ]
  },
  {
   "cell_type": "markdown",
   "metadata": {},
   "source": [
    "***ATENTION:*** before running this lab, upgrade geemap, please go to File, New, Terminal, and pass the following command:"
   ]
  },
  {
   "cell_type": "raw",
   "metadata": {},
   "source": [
    "pip install -U geemap"
   ]
  },
  {
   "cell_type": "code",
   "execution_count": 2,
   "metadata": {},
   "outputs": [
    {
     "name": "stdout",
     "output_type": "stream",
     "text": [
      "Collecting eemont\n",
      "  Downloading eemont-0.3.6.tar.gz (134 kB)\n",
      "     |████████████████████████████████| 134 kB 4.3 MB/s            \n",
      "\u001b[?25h  Preparing metadata (setup.py) ... \u001b[?25ldone\n",
      "\u001b[?25hRequirement already satisfied: beautifulsoup4 in /opt/conda/lib/python3.9/site-packages (from eemont) (4.11.1)\n",
      "Requirement already satisfied: earthengine-api in /opt/conda/lib/python3.9/site-packages (from eemont) (0.1.318)\n",
      "Collecting ee_extra>=0.0.15\n",
      "  Downloading ee_extra-0.0.15.tar.gz (224 kB)\n",
      "     |████████████████████████████████| 224 kB 35.5 MB/s            \n",
      "\u001b[?25h  Preparing metadata (setup.py) ... \u001b[?25ldone\n",
      "\u001b[?25hRequirement already satisfied: numpy in /opt/conda/lib/python3.9/site-packages (from eemont) (1.23.1)\n",
      "Requirement already satisfied: pandas in /opt/conda/lib/python3.9/site-packages (from eemont) (1.4.3)\n",
      "Requirement already satisfied: python-box>=6.0.0 in /opt/conda/lib/python3.9/site-packages (from eemont) (6.0.2)\n",
      "Collecting geopy\n",
      "  Downloading geopy-2.3.0-py3-none-any.whl (119 kB)\n",
      "     |████████████████████████████████| 119 kB 52.4 MB/s            \n",
      "\u001b[?25hRequirement already satisfied: requests in /opt/conda/lib/python3.9/site-packages (from eemont) (2.27.1)\n",
      "Requirement already satisfied: soupsieve>1.2 in /opt/conda/lib/python3.9/site-packages (from beautifulsoup4->eemont) (2.3.2.post1)\n",
      "Requirement already satisfied: google-auth-httplib2>=0.0.3 in /opt/conda/lib/python3.9/site-packages (from earthengine-api->eemont) (0.1.0)\n",
      "Requirement already satisfied: future in /opt/conda/lib/python3.9/site-packages (from earthengine-api->eemont) (0.18.2)\n",
      "Requirement already satisfied: httplib2<1dev,>=0.9.2 in /opt/conda/lib/python3.9/site-packages (from earthengine-api->eemont) (0.20.4)\n",
      "Requirement already satisfied: google-cloud-storage in /opt/conda/lib/python3.9/site-packages (from earthengine-api->eemont) (2.4.0)\n",
      "Requirement already satisfied: six in /opt/conda/lib/python3.9/site-packages (from earthengine-api->eemont) (1.15.0)\n",
      "Requirement already satisfied: google-api-python-client<2,>=1.12.1 in /opt/conda/lib/python3.9/site-packages (from earthengine-api->eemont) (1.12.8)\n",
      "Requirement already satisfied: httplib2shim in /opt/conda/lib/python3.9/site-packages (from earthengine-api->eemont) (0.0.3)\n",
      "Requirement already satisfied: google-auth>=1.4.1 in /opt/conda/lib/python3.9/site-packages (from earthengine-api->eemont) (1.35.0)\n",
      "Collecting geographiclib<3,>=1.52\n",
      "  Downloading geographiclib-2.0-py3-none-any.whl (40 kB)\n",
      "     |████████████████████████████████| 40 kB 2.1 MB/s             \n",
      "\u001b[?25hRequirement already satisfied: pytz>=2020.1 in /opt/conda/lib/python3.9/site-packages (from pandas->eemont) (2021.3)\n",
      "Requirement already satisfied: python-dateutil>=2.8.1 in /opt/conda/lib/python3.9/site-packages (from pandas->eemont) (2.8.2)\n",
      "Requirement already satisfied: certifi>=2017.4.17 in /opt/conda/lib/python3.9/site-packages (from requests->eemont) (2022.6.15)\n",
      "Requirement already satisfied: urllib3<1.27,>=1.21.1 in /opt/conda/lib/python3.9/site-packages (from requests->eemont) (1.25.8)\n",
      "Requirement already satisfied: idna<4,>=2.5 in /opt/conda/lib/python3.9/site-packages (from requests->eemont) (2.10)\n",
      "Requirement already satisfied: charset-normalizer~=2.0.0 in /opt/conda/lib/python3.9/site-packages (from requests->eemont) (2.0.10)\n",
      "Requirement already satisfied: google-api-core<2dev,>=1.21.0 in /opt/conda/lib/python3.9/site-packages (from google-api-python-client<2,>=1.12.1->earthengine-api->eemont) (1.31.5)\n",
      "Requirement already satisfied: uritemplate<4dev,>=3.0.0 in /opt/conda/lib/python3.9/site-packages (from google-api-python-client<2,>=1.12.1->earthengine-api->eemont) (3.0.1)\n",
      "Requirement already satisfied: rsa<5,>=3.1.4 in /opt/conda/lib/python3.9/site-packages (from google-auth>=1.4.1->earthengine-api->eemont) (4.9)\n",
      "Requirement already satisfied: pyasn1-modules>=0.2.1 in /opt/conda/lib/python3.9/site-packages (from google-auth>=1.4.1->earthengine-api->eemont) (0.2.7)\n",
      "Requirement already satisfied: setuptools>=40.3.0 in /opt/conda/lib/python3.9/site-packages (from google-auth>=1.4.1->earthengine-api->eemont) (60.5.0)\n",
      "Requirement already satisfied: cachetools<5.0,>=2.0.0 in /opt/conda/lib/python3.9/site-packages (from google-auth>=1.4.1->earthengine-api->eemont) (4.2.4)\n",
      "Requirement already satisfied: pyparsing!=3.0.0,!=3.0.1,!=3.0.2,!=3.0.3,<4,>=2.4.2 in /opt/conda/lib/python3.9/site-packages (from httplib2<1dev,>=0.9.2->earthengine-api->eemont) (3.0.6)\n",
      "Requirement already satisfied: google-cloud-core<3.0dev,>=2.3.0 in /opt/conda/lib/python3.9/site-packages (from google-cloud-storage->earthengine-api->eemont) (2.3.1)\n",
      "Requirement already satisfied: google-resumable-media>=2.3.2 in /opt/conda/lib/python3.9/site-packages (from google-cloud-storage->earthengine-api->eemont) (2.3.3)\n",
      "Requirement already satisfied: googleapis-common-protos<2.0dev,>=1.6.0 in /opt/conda/lib/python3.9/site-packages (from google-api-core<2dev,>=1.21.0->google-api-python-client<2,>=1.12.1->earthengine-api->eemont) (1.56.4)\n",
      "Requirement already satisfied: packaging>=14.3 in /opt/conda/lib/python3.9/site-packages (from google-api-core<2dev,>=1.21.0->google-api-python-client<2,>=1.12.1->earthengine-api->eemont) (21.3)\n",
      "Requirement already satisfied: protobuf>=3.12.0 in /opt/conda/lib/python3.9/site-packages (from google-api-core<2dev,>=1.21.0->google-api-python-client<2,>=1.12.1->earthengine-api->eemont) (3.19.4)\n",
      "Requirement already satisfied: google-crc32c<2.0dev,>=1.0 in /opt/conda/lib/python3.9/site-packages (from google-resumable-media>=2.3.2->google-cloud-storage->earthengine-api->eemont) (1.1.2)\n",
      "Requirement already satisfied: pyasn1<0.5.0,>=0.4.6 in /opt/conda/lib/python3.9/site-packages (from pyasn1-modules>=0.2.1->google-auth>=1.4.1->earthengine-api->eemont) (0.4.8)\n",
      "Requirement already satisfied: cffi>=1.0.0 in /opt/conda/lib/python3.9/site-packages (from google-crc32c<2.0dev,>=1.0->google-resumable-media>=2.3.2->google-cloud-storage->earthengine-api->eemont) (1.15.0)\n",
      "Requirement already satisfied: pycparser in /opt/conda/lib/python3.9/site-packages (from cffi>=1.0.0->google-crc32c<2.0dev,>=1.0->google-resumable-media>=2.3.2->google-cloud-storage->earthengine-api->eemont) (2.21)\n",
      "Building wheels for collected packages: eemont, ee-extra\n",
      "  Building wheel for eemont (setup.py) ... \u001b[?25ldone\n",
      "\u001b[?25h  Created wheel for eemont: filename=eemont-0.3.6-py3-none-any.whl size=135762 sha256=a2510437c0b5d04eea9c10f81887628ab05d3adf2ef963f6911483ac08f61589\n",
      "  Stored in directory: /home/jovyan/.cache/pip/wheels/a8/10/2b/43cf7b375206608eadcb9ac6edf7b2fb4b4851b4befd963fe4\n",
      "  Building wheel for ee-extra (setup.py) ... \u001b[?25ldone\n",
      "\u001b[?25h  Created wheel for ee-extra: filename=ee_extra-0.0.15-py3-none-any.whl size=236772 sha256=4c5aac287bc020d89407a0e04dcc0b5ca0efe35c1b80d49f405586efb3878281\n",
      "  Stored in directory: /home/jovyan/.cache/pip/wheels/66/66/06/98d6dee3f612d84d2b487fc73ca2c2479279dc2714faddcc10\n",
      "Successfully built eemont ee-extra\n",
      "Installing collected packages: geographiclib, geopy, ee-extra, eemont\n",
      "  Attempting uninstall: ee-extra\n",
      "    Found existing installation: ee-extra 0.0.14\n",
      "    Uninstalling ee-extra-0.0.14:\n",
      "      Successfully uninstalled ee-extra-0.0.14\n",
      "Successfully installed ee-extra-0.0.15 eemont-0.3.6 geographiclib-2.0 geopy-2.3.0\n"
     ]
    }
   ],
   "source": [
    "!pip install eemont"
   ]
  },
  {
   "cell_type": "markdown",
   "metadata": {},
   "source": [
    "## Adding another basemap to the map \n",
    " Using https://github.com/giswqs/geemap/blob/master/geemap/basemaps.py   \n",
    " "
   ]
  },
  {
   "cell_type": "code",
   "execution_count": 3,
   "metadata": {},
   "outputs": [
    {
     "data": {
      "application/vnd.jupyter.widget-view+json": {
       "model_id": "51ba23931f1240228be9ac72cef64417",
       "version_major": 2,
       "version_minor": 0
      },
      "text/plain": [
       "Map(center=[20, 0], controls=(WidgetControl(options=['position', 'transparent_bg'], widget=HBox(children=(Togg…"
      ]
     },
     "metadata": {},
     "output_type": "display_data"
    }
   ],
   "source": [
    "import ee, eemont\n",
    "ee.Initialize()\n",
    "## here NAIP imagry is added as basemap \n",
    "import geemap\n",
    "Map = geemap.Map()\n",
    "Map.add_basemap(\"USGS NAIP Imagery\")\n",
    "Map"
   ]
  },
  {
   "cell_type": "markdown",
   "metadata": {},
   "source": [
    "##### Import all basemap in case users are able to pick up based on their goal "
   ]
  },
  {
   "cell_type": "code",
   "execution_count": 4,
   "metadata": {},
   "outputs": [
    {
     "data": {
      "application/vnd.jupyter.widget-view+json": {
       "model_id": "9e7cdc48df0747c1a559aabf2dcfdafc",
       "version_major": 2,
       "version_minor": 0
      },
      "text/plain": [
       "Map(center=[20, 0], controls=(WidgetControl(options=['position', 'transparent_bg'], widget=HBox(children=(Togg…"
      ]
     },
     "metadata": {},
     "output_type": "display_data"
    }
   ],
   "source": [
    "m=geemap.Map()\n",
    "m.basemap_demo()\n",
    "m"
   ]
  },
  {
   "cell_type": "markdown",
   "metadata": {},
   "source": [
    "### Importing Area of Interest \n"
   ]
  },
  {
   "cell_type": "markdown",
   "metadata": {},
   "source": [
    " Let's find Logan, UT coordinates using the https://www.latlong.net/ website"
   ]
  },
  {
   "cell_type": "code",
   "execution_count": 5,
   "metadata": {},
   "outputs": [],
   "source": [
    "\n",
    "logan_shp =\"logan.shp\"\n",
    "logan_shp \n",
    "logan = geemap.shp_to_ee(logan_shp )\n",
    "Map.addLayer(logan, {'fill_color':'red', 'outline': 2}, name='logan')"
   ]
  },
  {
   "cell_type": "markdown",
   "metadata": {},
   "source": [
    "### Define the landsat data and consider some parameters for visualization\n",
    "https://developers.google.com/earth-engine/datasets/catalog/LANDSAT_LC08_C02_T1_L2"
   ]
  },
  {
   "cell_type": "code",
   "execution_count": 6,
   "metadata": {},
   "outputs": [],
   "source": [
    "point = ee.Geometry.Point([-111.845630,41.678746])\n",
    "\n",
    "\n",
    "landsat = ee.ImageCollection('LANDSAT/LC08/C02/T1_L2') \\\n",
    "    .filterBounds(point) \\\n",
    "    .filterDate('2021-05-01', '2021-07-31') \\\n",
    "    .sort('CLOUD_COVER') \\\n",
    "    .first() \\\n",
    " \n",
    "\n",
    "landsat = landsat.select('SR_B.').multiply(0.0000275).add(-0.2)\n",
    "\n"
   ]
  },
  {
   "cell_type": "markdown",
   "metadata": {},
   "source": [
    "## Cliping the image using a shapefile"
   ]
  },
  {
   "cell_type": "code",
   "execution_count": 7,
   "metadata": {},
   "outputs": [],
   "source": [
    "# upload the shapefile in the folder\n",
    "point = ee.Geometry.Point([-111.845630,41.678746])\n",
    "logan_shp =\"logan.shp\"\n",
    "logan_shp \n",
    "logan = geemap.shp_to_ee(logan_shp )\n",
    "\n",
    "landsat = landsat.clip(logan)\n"
   ]
  },
  {
   "cell_type": "markdown",
   "metadata": {},
   "source": [
    "### Adding the landsat imagry to the map and diplay it with false color"
   ]
  },
  {
   "cell_type": "code",
   "execution_count": 9,
   "metadata": {},
   "outputs": [
    {
     "data": {
      "application/vnd.jupyter.widget-view+json": {
       "model_id": "51ba23931f1240228be9ac72cef64417",
       "version_major": 2,
       "version_minor": 0
      },
      "text/plain": [
       "Map(bottom=650.0, center=[-54.79415254138296, 186.42514305746892], controls=(WidgetControl(options=['position'…"
      ]
     },
     "metadata": {},
     "output_type": "display_data"
    }
   ],
   "source": [
    "Map.addLayer(landsat, {'bands': ['SR_B3', 'SR_B2', 'SR_B1'],'min': 0.0, 'max': 0.3}, name='Fals Color LnadSat 8 ')\n",
    "Map"
   ]
  },
  {
   "cell_type": "markdown",
   "metadata": {},
   "source": [
    "#### The list of available indices in eemont can be retrieved by running (check this list to get details on the implemented indexes https://eemont.readthedocs.io/en/latest/guide/spectralIndices.html):"
   ]
  },
  {
   "cell_type": "code",
   "execution_count": 10,
   "metadata": {},
   "outputs": [
    {
     "data": {
      "text/plain": [
       "['AFRI1600',\n",
       " 'AFRI2100',\n",
       " 'ANDWI',\n",
       " 'ARI',\n",
       " 'ARI2',\n",
       " 'ARVI',\n",
       " 'ATSAVI',\n",
       " 'AVI',\n",
       " 'AWEInsh',\n",
       " 'AWEIsh',\n",
       " 'BAI',\n",
       " 'BAIM',\n",
       " 'BAIS2',\n",
       " 'BCC',\n",
       " 'BI',\n",
       " 'BITM',\n",
       " 'BIXS',\n",
       " 'BLFEI',\n",
       " 'BNDVI',\n",
       " 'BRBA',\n",
       " 'BWDRVI',\n",
       " 'BaI',\n",
       " 'CIG',\n",
       " 'CIRE',\n",
       " 'CSI',\n",
       " 'CSIT',\n",
       " 'CVI',\n",
       " 'DBI',\n",
       " 'DBSI',\n",
       " 'DPDD',\n",
       " 'DSI',\n",
       " 'DSWI1',\n",
       " 'DSWI2',\n",
       " 'DSWI3',\n",
       " 'DSWI4',\n",
       " 'DSWI5',\n",
       " 'DVI',\n",
       " 'DVIplus',\n",
       " 'DpRVIHH',\n",
       " 'DpRVIVV',\n",
       " 'EBBI',\n",
       " 'EMBI',\n",
       " 'EVI',\n",
       " 'EVI2',\n",
       " 'ExG',\n",
       " 'ExGR',\n",
       " 'ExR',\n",
       " 'FCVI',\n",
       " 'GARI',\n",
       " 'GBNDVI',\n",
       " 'GCC',\n",
       " 'GDVI',\n",
       " 'GEMI',\n",
       " 'GLI',\n",
       " 'GM1',\n",
       " 'GM2',\n",
       " 'GNDVI',\n",
       " 'GOSAVI',\n",
       " 'GRNDVI',\n",
       " 'GRVI',\n",
       " 'GSAVI',\n",
       " 'GVMI',\n",
       " 'IAVI',\n",
       " 'IBI',\n",
       " 'IKAW',\n",
       " 'IPVI',\n",
       " 'IRECI',\n",
       " 'LSWI',\n",
       " 'MBI',\n",
       " 'MBWI',\n",
       " 'MCARI',\n",
       " 'MCARI1',\n",
       " 'MCARI2',\n",
       " 'MCARI705',\n",
       " 'MCARIOSAVI',\n",
       " 'MCARIOSAVI705',\n",
       " 'MGRVI',\n",
       " 'MIRBI',\n",
       " 'MLSWI26',\n",
       " 'MLSWI27',\n",
       " 'MNDVI',\n",
       " 'MNDWI',\n",
       " 'MNLI',\n",
       " 'MRBVI',\n",
       " 'MSAVI',\n",
       " 'MSI',\n",
       " 'MSR',\n",
       " 'MSR705',\n",
       " 'MTCI',\n",
       " 'MTVI1',\n",
       " 'MTVI2',\n",
       " 'MuWIR',\n",
       " 'NBAI',\n",
       " 'NBLI',\n",
       " 'NBR',\n",
       " 'NBR2',\n",
       " 'NBRSWIR',\n",
       " 'NBRT1',\n",
       " 'NBRT2',\n",
       " 'NBRT3',\n",
       " 'NBRplus',\n",
       " 'NBSIMS',\n",
       " 'NBUI',\n",
       " 'ND705',\n",
       " 'NDBI',\n",
       " 'NDBaI',\n",
       " 'NDCI',\n",
       " 'NDDI',\n",
       " 'NDGI',\n",
       " 'NDGlaI',\n",
       " 'NDII',\n",
       " 'NDISIb',\n",
       " 'NDISIg',\n",
       " 'NDISImndwi',\n",
       " 'NDISIndwi',\n",
       " 'NDISIr',\n",
       " 'NDMI',\n",
       " 'NDPI',\n",
       " 'NDPolI',\n",
       " 'NDPonI',\n",
       " 'NDREI',\n",
       " 'NDSI',\n",
       " 'NDSII',\n",
       " 'NDSIWV',\n",
       " 'NDSInw',\n",
       " 'NDSWIR',\n",
       " 'NDSaII',\n",
       " 'NDSoI',\n",
       " 'NDTI',\n",
       " 'NDVI',\n",
       " 'NDVI705',\n",
       " 'NDVIMNDWI',\n",
       " 'NDVIT',\n",
       " 'NDWI',\n",
       " 'NDWIns',\n",
       " 'NDYI',\n",
       " 'NGRDI',\n",
       " 'NHFD',\n",
       " 'NIRv',\n",
       " 'NIRvH2',\n",
       " 'NIRvP',\n",
       " 'NLI',\n",
       " 'NMDI',\n",
       " 'NRFIg',\n",
       " 'NRFIr',\n",
       " 'NSDS',\n",
       " 'NSDSI1',\n",
       " 'NSDSI2',\n",
       " 'NSDSI3',\n",
       " 'NSTv1',\n",
       " 'NSTv2',\n",
       " 'NWI',\n",
       " 'NormG',\n",
       " 'NormNIR',\n",
       " 'NormR',\n",
       " 'OCVI',\n",
       " 'OSAVI',\n",
       " 'PISI',\n",
       " 'PSRI',\n",
       " 'QpRVI',\n",
       " 'RCC',\n",
       " 'RDVI',\n",
       " 'REDSI',\n",
       " 'RENDVI',\n",
       " 'RFDI',\n",
       " 'RGBVI',\n",
       " 'RGRI',\n",
       " 'RI',\n",
       " 'RI4XS',\n",
       " 'RVI',\n",
       " 'S2REP',\n",
       " 'S2WI',\n",
       " 'S3',\n",
       " 'SARVI',\n",
       " 'SAVI',\n",
       " 'SAVI2',\n",
       " 'SAVIT',\n",
       " 'SEVI',\n",
       " 'SI',\n",
       " 'SIPI',\n",
       " 'SR',\n",
       " 'SR2',\n",
       " 'SR3',\n",
       " 'SR555',\n",
       " 'SR705',\n",
       " 'SWI',\n",
       " 'SWM',\n",
       " 'SeLI',\n",
       " 'TCARI',\n",
       " 'TCARIOSAVI',\n",
       " 'TCARIOSAVI705',\n",
       " 'TCI',\n",
       " 'TDVI',\n",
       " 'TGI',\n",
       " 'TRRVI',\n",
       " 'TSAVI',\n",
       " 'TTVI',\n",
       " 'TVI',\n",
       " 'TriVI',\n",
       " 'UI',\n",
       " 'VARI',\n",
       " 'VARI700',\n",
       " 'VDDPI',\n",
       " 'VHVVD',\n",
       " 'VHVVP',\n",
       " 'VHVVR',\n",
       " 'VI6T',\n",
       " 'VI700',\n",
       " 'VIBI',\n",
       " 'VIG',\n",
       " 'VVVHD',\n",
       " 'VVVHR',\n",
       " 'VVVHS',\n",
       " 'VgNIRBI',\n",
       " 'VrNIRBI',\n",
       " 'WDRVI',\n",
       " 'WDVI',\n",
       " 'WI1',\n",
       " 'WI2',\n",
       " 'WI2015',\n",
       " 'WRI',\n",
       " 'kEVI',\n",
       " 'kIPVI',\n",
       " 'kNDVI',\n",
       " 'kRVI',\n",
       " 'kVARI',\n",
       " 'mND705',\n",
       " 'mSR705']"
      ]
     },
     "execution_count": 10,
     "metadata": {},
     "output_type": "execute_result"
    }
   ],
   "source": [
    "import eemont\n",
    "\n",
    "eemont.listIndices()"
   ]
  },
  {
   "cell_type": "code",
   "execution_count": 11,
   "metadata": {},
   "outputs": [],
   "source": [
    "# landsat = ee.ImageCollection('LANDSAT/LC08/C02/T1_L2') \\\n",
    "#     .filterBounds(point) \\\n",
    "#     .filterDate('2021-05-01', '2021-07-31') \\\n",
    "#     .sort('CLOUD_COVER') \\\n",
    "#     .first() \n",
    "#landsati=landsat.spectralIndices('vegetation')\n",
    "landsati=landsat"
   ]
  },
  {
   "cell_type": "code",
   "execution_count": 12,
   "metadata": {},
   "outputs": [
    {
     "data": {
      "text/plain": [
       "['SR_B1', 'SR_B2', 'SR_B3', 'SR_B4', 'SR_B5', 'SR_B6', 'SR_B7']"
      ]
     },
     "execution_count": 12,
     "metadata": {},
     "output_type": "execute_result"
    }
   ],
   "source": [
    "landsati.bandNames().getInfo()\n"
   ]
  },
  {
   "cell_type": "markdown",
   "metadata": {},
   "source": [
    "Define areas that have unique characteristics: bare soil, water, vegetation"
   ]
  },
  {
   "cell_type": "markdown",
   "metadata": {},
   "source": [
    "We can use NDVI for help in diferentiating these areas:"
   ]
  },
  {
   "cell_type": "markdown",
   "metadata": {},
   "source": [
    "## calculate NDVI"
   ]
  },
  {
   "cell_type": "code",
   "execution_count": 13,
   "metadata": {},
   "outputs": [],
   "source": [
    "img_name ='ndvi'\n",
    "ndvi=landsat.normalizedDifference(['SR_B5', 'SR_B4'])\n",
    "landsat =landsat.addBands(ndvi)\n",
    "\n",
    "vis_params = {\n",
    "  'min': -0.2,\n",
    "  'max': 1.0,\n",
    "  'palette': ['blue','white','brown','yellow', 'lime', 'green','navy']}\n",
    "\n",
    "#Map.addLayer(ndvi,vis_params,img_name)\n",
    "\n",
    "colors = vis_params['palette']\n",
    "vmin = vis_params['min']  \n",
    "vmax = vis_params['max']\n",
    "\n",
    "#Map.add_colorbar_branca(colors=colors, vmin=vmin, vmax=vmax, layer_name=img_name)\n",
    "\n",
    "#Map"
   ]
  },
  {
   "cell_type": "markdown",
   "metadata": {},
   "source": [
    "### Make training dataset\n",
    "\n",
    "There are several ways you can create a region for generating the training dataset.\n",
    "\n",
    "- Draw a shape (e.g., rectangle) on the map and the use `region = Map.user_roi`\n",
    "- Define a geometry, such as `region = ee.Geometry.Rectangle([-122.6003, 37.4831, -121.8036, 37.8288])`\n",
    "- Create a buffer zone around a point, such as `region = ee.Geometry.Point([-122.4439, 37.7538]).buffer(10000)`\n",
    "- If you don't define a region, it will use the image footprint by default"
   ]
  },
  {
   "cell_type": "code",
   "execution_count": 14,
   "metadata": {},
   "outputs": [],
   "source": [
    "# FOR Street ;\n",
    "#REC1\n",
    "poly = ee.Geometry.Rectangle([-111.832846, 41.760899, -111.831617, 41.760070])\n",
    "\n",
    "# // Create a Feature from the Geometry.\n",
    "streetl= ee.Feature(poly, {'class': 2, 'name': 'street'});\n",
    "#Map.addLayer(streetl, {'fill_color':'yellow', 'outline': 1}, name='streetl')\n",
    "\n",
    "#REC2\n",
    "poly = ee.Geometry.Rectangle([-111.831689,41.7402207, -111.830956, 41.739764])\n",
    "\n",
    "# // Create a Feature from the Geometry.\n",
    "street2 = ee.Feature(poly , {'class': 2, 'name': 'street'});\n",
    "#Map.addLayer(street2, {'fill_color':'yellow', 'outline': 1}, name='street2')\n",
    "#REC3\n",
    "poly = ee.Geometry.Rectangle([-111.837205,41.734306, -111.836638,41.7338021])\n",
    "\n",
    "# // Create a Feature from the Geometry.\n",
    "street3 = ee.Feature(poly, {'class': 2, 'name': 'street'});\n",
    "#Map.addLayer(street3, {'fill_color':'yellow', 'outline': 1}, name='street3')\n",
    "#Map"
   ]
  },
  {
   "cell_type": "code",
   "execution_count": 15,
   "metadata": {},
   "outputs": [
    {
     "data": {
      "application/vnd.jupyter.widget-view+json": {
       "model_id": "51ba23931f1240228be9ac72cef64417",
       "version_major": 2,
       "version_minor": 0
      },
      "text/plain": [
       "Map(bottom=650.0, center=[-54.79415254138296, 186.42514305746892], controls=(WidgetControl(options=['position'…"
      ]
     },
     "metadata": {},
     "output_type": "display_data"
    }
   ],
   "source": [
    "# FOR VEGETATION\n",
    "\n",
    "#Rec1\n",
    "poly= ee.Geometry.Rectangle([-111.830666,41.749691,-111.829679, 41.749211])\n",
    "vegetationl = ee.Feature(poly, {'class': 1, 'name': 'vegetation'});\n",
    "#Map.addLayer(vegetationl , {'fill_color':'green', 'outline': 1}, name='vegetationl')\n",
    "\n",
    "#Rec2\n",
    "poly= ee.Geometry.Rectangle([-111.836743,41.747952,-111.836078, 41.746976])\n",
    "\n",
    "# // Create a Feature from the Geometry.\n",
    "vegetation2 = ee.Feature(poly, {'class': 1, 'name': 'vegetation'});\n",
    "#Map.addLayer(vegetation2, {'fill_color':'green', 'outline': 1}, name='vegetation2')\n",
    "#Rec3\n",
    "poly = ee.Geometry.Rectangle([-111.848104,41.755461,-111.846472,41.754757])\n",
    "# // Create a Feature from the Geometry.\n",
    "vegetation3 = ee.Feature(poly, {'class': 1, 'name': 'vegetation'});\n",
    "#Map.addLayer(vegetation3, {'fill_color':'green', 'outline': 1}, name='vegetation3')\n",
    "\n",
    "Map"
   ]
  },
  {
   "cell_type": "code",
   "execution_count": 16,
   "metadata": {},
   "outputs": [
    {
     "data": {
      "application/vnd.jupyter.widget-view+json": {
       "model_id": "51ba23931f1240228be9ac72cef64417",
       "version_major": 2,
       "version_minor": 0
      },
      "text/plain": [
       "Map(bottom=650.0, center=[-54.79415254138296, 186.42514305746892], controls=(WidgetControl(options=['position'…"
      ]
     },
     "metadata": {},
     "output_type": "display_data"
    }
   ],
   "source": [
    "# FOR Building\n",
    "\n",
    "# // Create a Feature from the Geometry.\n",
    "#Rec1\n",
    "poly = ee.Geometry.Rectangle([-111.812329,41.747856, -111.811556, 41.747296])\n",
    "Buildingl = ee.Feature(poly, {'class':0, 'name': 'Building'});\n",
    "#Map.addLayer(Buildingl, {'fill_color':'gray', 'outline': 1}, name='Buildingl')\n",
    "\n",
    "#Rec2\n",
    "poly= ee.Geometry.Rectangle([-111.816211,41.754724, -111.815780, 41.754031])\n",
    "\n",
    "# // Create a Feature from the Geometry.\n",
    "Building2 = ee.Feature(poly, {'class': 0, 'name': 'Building'});\n",
    "#Map.addLayer(Building2, {'fill_color':'gray', 'outline': 1}, name='Building2')\n",
    "#Rec3\n",
    "poly= ee.Geometry.Rectangle([-111.821893,41.756152,-111.821936, 41.755607])\n",
    "\n",
    "#// Create a Feature from the Geometry.\n",
    "Building3 = ee.Feature(poly, {'class': 0, 'name': 'Building'});\n",
    "#Map.addLayer(Building3, {'fill_color':'gray', 'outline': 1}, name='Building3')\n",
    "# #Rec4\n",
    "# poly= ee.Geometry.Rectangle([-111.829867,41.741429,-111.829738, 41.755607])\n",
    "\n",
    "# #// Create a Feature from the Geometry.\n",
    "# Building4 = ee.Feature(poly, {'class': 0, 'name': 'Building'});\n",
    "# Map.addLayer(Building4, {'fill_color':'gray', 'outline': 1}, name='Building3')\n",
    "# #Rec5\n",
    "# poly= ee.Geometry.Rectangle([-111.832302,41.743863,-111.832195, 41.743786])\n",
    "\n",
    "# #// Create a Feature from the Geometry.\n",
    "# Building5 = ee.Feature(poly, {'class': 0, 'name': 'Building'});\n",
    "# Map.addLayer(Building5, {'fill_color':'gray', 'outline': 1}, name='Building3')\n",
    "# # Map\n",
    "# # water = ee.Feature(polygon, {'class': 0, 'name': 'water'});\n",
    "# # Map.addLayer(water, {'fill_color':'blue', 'outline': 1}, name='water')\n",
    "Map"
   ]
  },
  {
   "cell_type": "markdown",
   "metadata": {},
   "source": [
    "Merge Features into a Feature Collection"
   ]
  },
  {
   "cell_type": "code",
   "execution_count": 17,
   "metadata": {},
   "outputs": [],
   "source": [
    "trainingFeatures = ee.FeatureCollection([Buildingl,Building2,Building3,vegetationl, vegetation2, vegetation3, streetl, street2, street3 ])\n"
   ]
  },
  {
   "cell_type": "markdown",
   "metadata": {
    "tags": []
   },
   "source": [
    "## Input( peridctors)"
   ]
  },
  {
   "cell_type": "code",
   "execution_count": 18,
   "metadata": {},
   "outputs": [],
   "source": [
    "predictionBands = ['SR_B2', 'SR_B3', 'SR_B4', 'SR_B5' ,'SR_B6','SR_B7']"
   ]
  },
  {
   "cell_type": "markdown",
   "metadata": {},
   "source": [
    "In the merged FeatureCollection, each Feature should have a property called 'class' where the classes are consecutive integers, one for each class, starting at 0. Verify that this is true."
   ]
  },
  {
   "cell_type": "code",
   "execution_count": 19,
   "metadata": {},
   "outputs": [
    {
     "name": "stdout",
     "output_type": "stream",
     "text": [
      "{'type': 'Feature', 'geometry': {'type': 'Polygon', 'coordinates': [[[-111.812329, 41.747296], [-111.811556, 41.747296], [-111.811556, 41.747856], [-111.812329, 41.747856], [-111.812329, 41.747296]]]}, 'id': '0', 'properties': {'class': 0, 'name': 'Building'}}\n"
     ]
    }
   ],
   "source": [
    "print(trainingFeatures.first().getInfo())"
   ]
  },
  {
   "cell_type": "code",
   "execution_count": 20,
   "metadata": {},
   "outputs": [
    {
     "name": "stdout",
     "output_type": "stream",
     "text": [
      "{'type': 'Image', 'bands': [{'id': 'SR_B1', 'data_type': {'type': 'PixelType', 'precision': 'double', 'min': -0.2, 'max': 1.6022125}, 'dimensions': [7791, 7911], 'crs': 'EPSG:32612', 'crs_transform': [30, 0, 340785, 0, -30, 4741515]}, {'id': 'SR_B2', 'data_type': {'type': 'PixelType', 'precision': 'double', 'min': -0.2, 'max': 1.6022125}, 'dimensions': [7791, 7911], 'crs': 'EPSG:32612', 'crs_transform': [30, 0, 340785, 0, -30, 4741515]}, {'id': 'SR_B3', 'data_type': {'type': 'PixelType', 'precision': 'double', 'min': -0.2, 'max': 1.6022125}, 'dimensions': [7791, 7911], 'crs': 'EPSG:32612', 'crs_transform': [30, 0, 340785, 0, -30, 4741515]}, {'id': 'SR_B4', 'data_type': {'type': 'PixelType', 'precision': 'double', 'min': -0.2, 'max': 1.6022125}, 'dimensions': [7791, 7911], 'crs': 'EPSG:32612', 'crs_transform': [30, 0, 340785, 0, -30, 4741515]}, {'id': 'SR_B5', 'data_type': {'type': 'PixelType', 'precision': 'double', 'min': -0.2, 'max': 1.6022125}, 'dimensions': [7791, 7911], 'crs': 'EPSG:32612', 'crs_transform': [30, 0, 340785, 0, -30, 4741515]}, {'id': 'SR_B6', 'data_type': {'type': 'PixelType', 'precision': 'double', 'min': -0.2, 'max': 1.6022125}, 'dimensions': [7791, 7911], 'crs': 'EPSG:32612', 'crs_transform': [30, 0, 340785, 0, -30, 4741515]}, {'id': 'SR_B7', 'data_type': {'type': 'PixelType', 'precision': 'double', 'min': -0.2, 'max': 1.6022125}, 'dimensions': [7791, 7911], 'crs': 'EPSG:32612', 'crs_transform': [30, 0, 340785, 0, -30, 4741515]}]}\n"
     ]
    }
   ],
   "source": [
    "info = landsati.getInfo()\n",
    "print(info)"
   ]
  },
  {
   "cell_type": "markdown",
   "metadata": {},
   "source": [
    "  Create a training set T for the classifier by sampling the Landsat composite with the merged features:"
   ]
  },
  {
   "cell_type": "markdown",
   "metadata": {},
   "source": [
    "## creat traing set from the  Image based on the ploygones and class feature "
   ]
  },
  {
   "cell_type": "code",
   "execution_count": 22,
   "metadata": {},
   "outputs": [],
   "source": [
    "classifierTraining = landsati.select(predictionBands).sampleRegions(\n",
    "      collection= trainingFeatures, \n",
    "      properties= ['class'], \n",
    "      scale= 30\n",
    "    );"
   ]
  },
  {
   "cell_type": "markdown",
   "metadata": {},
   "source": [
    "guid for randomColumn(\n",
    "\n",
    "https://developers.google.com/earth-engine/apidocs/ee-imagecollection-randomcolumn"
   ]
  },
  {
   "cell_type": "code",
   "execution_count": 23,
   "metadata": {},
   "outputs": [],
   "source": [
    "# // Randomly split the data into 60% for training, and 40% for testing\n",
    "trainingTesting = classifierTraining.randomColumn('random',111009);\n",
    "\n",
    "training = trainingTesting.filter(ee.Filter.lt('random', 0.66));\n",
    "\n",
    "testing = trainingTesting.filter(ee.Filter.gte('random', 0.66));"
   ]
  },
  {
   "cell_type": "markdown",
   "metadata": {},
   "source": [
    "### - Non-linear regression functions"
   ]
  },
  {
   "cell_type": "markdown",
   "metadata": {},
   "source": [
    "There is a pletora of options for classification in Google Earth Engine. Here is an screenshot of these options:"
   ]
  },
  {
   "cell_type": "code",
   "execution_count": 24,
   "metadata": {},
   "outputs": [
    {
     "data": {
      "text/html": [
       "<img src=\"https://i.imgur.com/vROsEiq.png\"/>"
      ],
      "text/plain": [
       "<IPython.core.display.Image object>"
      ]
     },
     "execution_count": 24,
     "metadata": {},
     "output_type": "execute_result"
    }
   ],
   "source": [
    "# ![](https://i.imgur.com/vROsEiq.png)\n",
    "from IPython.display import Image\n",
    "from IPython.core.display import HTML \n",
    "Image(url= \"https://i.imgur.com/vROsEiq.png\")#, width=100, height=100)"
   ]
  },
  {
   "cell_type": "markdown",
   "metadata": {},
   "source": [
    "### Classification and Regression Tree (CART)"
   ]
  },
  {
   "cell_type": "code",
   "execution_count": 25,
   "metadata": {},
   "outputs": [],
   "source": [
    "#hyperparameter to tune\n",
    "leaf_val=4\n",
    "\n",
    "cartclassifier = ee.Classifier.smileCart(minLeafPopulation=leaf_val).train(\n",
    "      features= training, \n",
    "      classProperty= 'class', \n",
    "      inputProperties= predictionBands\n",
    "    );"
   ]
  },
  {
   "cell_type": "markdown",
   "metadata": {},
   "source": [
    "- Make predictions over the input imagery (classify in this context is a misnomer):\n"
   ]
  },
  {
   "cell_type": "code",
   "execution_count": 26,
   "metadata": {
    "tags": []
   },
   "outputs": [
    {
     "data": {
      "application/vnd.jupyter.widget-view+json": {
       "model_id": "51ba23931f1240228be9ac72cef64417",
       "version_major": 2,
       "version_minor": 0
      },
      "text/plain": [
       "Map(bottom=650.0, center=[-54.79415254138296, 186.42514305746892], controls=(WidgetControl(options=['position'…"
      ]
     },
     "metadata": {},
     "output_type": "display_data"
    }
   ],
   "source": [
    "cartClasifficationImage = landsati.select(predictionBands).classify(cartclassifier);\n",
    "\n",
    "Map.addLayer(cartClasifficationImage, {'min': 0, 'max': 2,\n",
    "                                   'palette':['gray','green', 'yellow']},'CART classification');\n",
    "Map"
   ]
  },
  {
   "cell_type": "markdown",
   "metadata": {},
   "source": [
    "### Random Forest classifier"
   ]
  },
  {
   "cell_type": "code",
   "execution_count": 27,
   "metadata": {},
   "outputs": [],
   "source": [
    "# hyperparameter to tune\n",
    "trees_val=13\n",
    "\n",
    "rfClassification = ee.Classifier.smileRandomForest(numberOfTrees=trees_val, seed=111009).train(\n",
    "      features= training, \n",
    "      classProperty= 'class', \n",
    "      inputProperties= predictionBands\n",
    "    )"
   ]
  },
  {
   "cell_type": "code",
   "execution_count": 28,
   "metadata": {},
   "outputs": [
    {
     "data": {
      "application/vnd.jupyter.widget-view+json": {
       "model_id": "51ba23931f1240228be9ac72cef64417",
       "version_major": 2,
       "version_minor": 0
      },
      "text/plain": [
       "Map(bottom=650.0, center=[-54.79415254138296, 186.42514305746892], controls=(WidgetControl(options=['position'…"
      ]
     },
     "metadata": {},
     "output_type": "display_data"
    }
   ],
   "source": [
    "# // Perform the RF regression on the landsat image\n",
    "rfClassificationImage = landsati.select(predictionBands).classify(rfClassification);\n",
    "    \n",
    "# // Visualize the RF regression\n",
    "Map.addLayer(rfClassificationImage,  {'min': 0, 'max': 2,\n",
    "                                   'palette':['gray','green', 'yellow']}, 'RF classification');\n",
    "\n",
    "Map"
   ]
  },
  {
   "cell_type": "markdown",
   "metadata": {},
   "source": [
    "### Support Vector Machines"
   ]
  },
  {
   "cell_type": "code",
   "execution_count": 29,
   "metadata": {},
   "outputs": [],
   "source": [
    "# hyperparameter to tune\n",
    "gamma_val =0.1\n",
    "\n",
    "# // Create an SVM classifier with custom parameters.\n",
    "svClassification = ee.Classifier.libsvm(svmType='C_SVC',kernelType='RBF',gamma=gamma_val).train(\n",
    "      features= training, \n",
    "      classProperty= 'class', \n",
    "      inputProperties= predictionBands\n",
    "    )"
   ]
  },
  {
   "cell_type": "markdown",
   "metadata": {},
   "source": [
    "In the classification context, accuracy measurements are often derived from a [confusion matrix](https://en.wikipedia.org/wiki/Confusion_matrix)."
   ]
  },
  {
   "cell_type": "markdown",
   "metadata": {},
   "source": [
    "### Accuracy Assessment"
   ]
  },
  {
   "cell_type": "markdown",
   "metadata": {},
   "source": [
    "Print the confusion matrix and expand the object to inspect the matrix.  The entries represent number of pixels.  Items on the diagonal represent correct classification.  Items off the diagonal are misclassifications, where the class in row i is classified as column j.  It's also possible to get basic descriptive statistics from the confusion matrix.  For example:"
   ]
  },
  {
   "cell_type": "markdown",
   "metadata": {},
   "source": [
    "### What is a confusion matrix?\n",
    "\n",
    "A confusion matrix is used here to compare two different data, one the true value and the other the predicted values. We will be using it primarily to compute overall accuracy between the model and the different machine learning results, but confusion matrices also provide explicit information about which  classes were classified incorrectly; not just if pixels were classified incorrectly, but what class they were incorrectly classified as. For an example of how to use and interpret a confusion matrix for LULC remote sensing visit https://www.harrisgeospatial.com/docs/CalculatingConfusionMatrices.html and \n",
    "http://gsp.humboldt.edu/olm_2019/courses/GSP_216_Online/lesson6-2/metrics.html"
   ]
  },
  {
   "cell_type": "code",
   "execution_count": 30,
   "metadata": {},
   "outputs": [],
   "source": [
    "# // Perform the CART classification on the test set\n",
    "\n",
    "test=testing.classify(cartclassifier)\n",
    "\n",
    "# print(test.first().getInfo())\n",
    "# // Get a confusion matrix representing expected accuracy.\n",
    "testAccuracy = test.errorMatrix('class', 'classification');\n",
    "\n",
    "# cm_display = metrics.ConfusionMatrixDisplay(confusion_matrix = confusion_matrix, display_labels = [False, True])\n",
    "\n",
    "# cm_display.plot()\n",
    "# plt.show()"
   ]
  },
  {
   "cell_type": "code",
   "execution_count": 31,
   "metadata": {},
   "outputs": [
    {
     "data": {
      "image/png": "[encoded data removed]",
      "text/plain": [
       "<Figure size 432x288 with 2 Axes>"
      ]
     },
     "metadata": {
      "needs_background": "light"
     },
     "output_type": "display_data"
    }
   ],
   "source": [
    "import numpy as np\n",
    "import numpy as np\n",
    "from sklearn.metrics import confusion_matrix, ConfusionMatrixDisplay\n",
    "import matplotlib.pyplot as plt\n",
    "errormaxtrix=np.array(testAccuracy.array().getInfo())\n",
    "cm_display = ConfusionMatrixDisplay(confusion_matrix = errormaxtrix, display_labels = [\"building\", \"vegetation\",\"street\"])\n",
    "\n",
    "cm_display.plot()\n",
    "plt.show()\n",
    "\n"
   ]
  },
  {
   "cell_type": "code",
   "execution_count": 32,
   "metadata": {},
   "outputs": [
    {
     "name": "stdout",
     "output_type": "stream",
     "text": [
      "ConfusionMatrix\n",
      "[[ 0  0  1]\n",
      " [ 0 11  0]\n",
      " [ 0  0  3]]\n",
      "Overall Accuracy: 0.9333333333333333\n",
      "Producers Accuracy: [[0], [1], [1]]\n",
      "Consumers Accuracy: [[0, 1, 0.75]]\n",
      "Kappa: 0.8369565217391305\n"
     ]
    }
   ],
   "source": [
    "print(testAccuracy.name());\n",
    "print(errormaxtrix)\n",
    "print('Overall Accuracy:', testAccuracy.accuracy().getInfo());\n",
    "print('Producers Accuracy:', testAccuracy.producersAccuracy().getInfo());\n",
    "print('Consumers Accuracy:', testAccuracy.consumersAccuracy().getInfo());\n",
    "print('Kappa:', testAccuracy.kappa().getInfo());\n"
   ]
  },
  {
   "cell_type": "code",
   "execution_count": 33,
   "metadata": {},
   "outputs": [
    {
     "name": "stdout",
     "output_type": "stream",
     "text": [
      "ConfusionMatrix\n",
      "[[ 1  0  0]\n",
      " [ 0 11  0]\n",
      " [ 1  0  2]]\n",
      "Overall Accuracy: 0.9333333333333333\n",
      "Producers Accuracy: [[1], [1], [0.6666666666666666]]\n",
      "Consumers Accuracy: [[0.5, 1, 1]]\n",
      "Kappa: 0.84375\n"
     ]
    },
    {
     "data": {
      "image/png": "[encoded data removed]",
      "text/plain": [
       "<Figure size 432x288 with 2 Axes>"
      ]
     },
     "metadata": {
      "needs_background": "light"
     },
     "output_type": "display_data"
    }
   ],
   "source": [
    "# // Perform the RF classification on the test set\n",
    "\n",
    "test=testing.classify(rfClassification)\n",
    "# print(test.first().getInfo())\n",
    "# // Get a confusion matrix representing expected accuracy.\n",
    "testAccuracy = test.errorMatrix('class', 'classification');\n",
    "\n",
    "errormaxtrix=np.array(testAccuracy.array().getInfo())\n",
    "\n",
    "print(testAccuracy.name());\n",
    "print(errormaxtrix)\n",
    "print('Overall Accuracy:', testAccuracy.accuracy().getInfo());\n",
    "print('Producers Accuracy:', testAccuracy.producersAccuracy().getInfo());\n",
    "print('Consumers Accuracy:', testAccuracy.consumersAccuracy().getInfo());\n",
    "print('Kappa:', testAccuracy.kappa().getInfo());\n",
    "cm_display = ConfusionMatrixDisplay(confusion_matrix = errormaxtrix, display_labels = [\"building\", \"vegetation\",\"street\"])\n",
    "\n",
    "cm_display.plot()\n",
    "plt.show()\n"
   ]
  },
  {
   "cell_type": "code",
   "execution_count": 34,
   "metadata": {},
   "outputs": [
    {
     "name": "stdout",
     "output_type": "stream",
     "text": [
      "ConfusionMatrix\n",
      "[[ 0  1  0]\n",
      " [ 0 11  0]\n",
      " [ 0  3  0]]\n",
      "Overall Accuracy: 0.7333333333333333\n",
      "Producers Accuracy: [[0], [1], [0]]\n",
      "Consumers Accuracy: [[0, 0.7333333333333333, 0]]\n",
      "Kappa: 0\n"
     ]
    },
    {
     "data": {
      "image/png": "[encoded data removed]",
      "text/plain": [
       "<Figure size 432x288 with 2 Axes>"
      ]
     },
     "metadata": {
      "needs_background": "light"
     },
     "output_type": "display_data"
    }
   ],
   "source": [
    "# // Perform the SVR classification on the test set\n",
    "\n",
    "test=testing.classify(svClassification)\n",
    "# print(test.first().getInfo())\n",
    "# // Get a confusion matrix representing expected accuracy.\n",
    "testAccuracy = test.errorMatrix('class', 'classification');\n",
    "\n",
    "errormaxtrix=np.array(testAccuracy.array().getInfo())\n",
    "\n",
    "print(testAccuracy.name());\n",
    "print(errormaxtrix)\n",
    "print('Overall Accuracy:', testAccuracy.accuracy().getInfo());\n",
    "print('Producers Accuracy:', testAccuracy.producersAccuracy().getInfo());\n",
    "print('Consumers Accuracy:', testAccuracy.consumersAccuracy().getInfo());\n",
    "print('Kappa:', testAccuracy.kappa().getInfo());\n",
    "\n",
    "errormaxtrix=np.array(testAccuracy.array().getInfo())\n",
    "cm_display = ConfusionMatrixDisplay(confusion_matrix = errormaxtrix, display_labels = [\"building\", \"vegetation\",\"street\"])\n",
    "\n",
    "cm_display.plot()\n",
    "plt.show()\n"
   ]
  },
  {
   "cell_type": "markdown",
   "metadata": {},
   "source": [
    "### BONUS: Hyperparameters tuning\n",
    "\n"
   ]
  },
  {
   "cell_type": "markdown",
   "metadata": {},
   "source": [
    "### RF"
   ]
  },
  {
   "cell_type": "code",
   "execution_count": 35,
   "metadata": {},
   "outputs": [
    {
     "data": {
      "image/png": "[encoded data removed]",
      "text/plain": [
       "<Figure size 432x288 with 1 Axes>"
      ]
     },
     "metadata": {
      "needs_background": "light"
     },
     "output_type": "display_data"
    }
   ],
   "source": [
    "numTrees = ee.List.sequence(1, 30, 1)\n",
    "\n",
    "\n",
    "def trees(t):\n",
    "    rfclass = ee.Classifier.smileRandomForest(numberOfTrees=t, seed=111009).train(\n",
    "    features= training, \n",
    "    classProperty= 'class', \n",
    "    inputProperties= predictionBands)\n",
    "    \n",
    "    rfTesting = testing.classify(rfclass)\n",
    "    testAccuracy = rfTesting.errorMatrix('class', 'classification');\n",
    "    kappa= testAccuracy.kappa();       \n",
    "    return kappa\n",
    "\n",
    "\n",
    "kappa_trees=numTrees.map(trees)\n",
    "value_info = kappa_trees.getInfo()\n",
    "\n",
    "# print(rmse_trees.getInfo())\n",
    "\n",
    "import pandas as pd\n",
    "df =pd.DataFrame(value_info,columns=['kappa'])\n",
    "df['numTrees'] = numTrees.getInfo() \n",
    "\n",
    "ax =df.plot.line(x='numTrees', \n",
    "             y='kappa',\n",
    "             title= 'Impact of Number of Trees in Random Forest'\n",
    "             )\n",
    "ax.grid()"
   ]
  },
  {
   "cell_type": "markdown",
   "metadata": {},
   "source": [
    "### svc"
   ]
  },
  {
   "cell_type": "code",
   "execution_count": 36,
   "metadata": {},
   "outputs": [
    {
     "data": {
      "image/png": "[encoded data removed]",
      "text/plain": [
       "<Figure size 432x288 with 1 Axes>"
      ]
     },
     "metadata": {
      "needs_background": "light"
     },
     "output_type": "display_data"
    }
   ],
   "source": [
    "gamma_vals = ee.List.sequence(0.01, 0.2, 0.05)\n",
    "\n",
    "\n",
    "def gammas(t):\n",
    "    svclass = ee.Classifier.libsvm(svmType='C_SVC',kernelType='RBF',gamma=t).train(\n",
    "      features= training, \n",
    "      classProperty= 'class', \n",
    "      inputProperties= predictionBands\n",
    "    )\n",
    "    \n",
    "    svTesting = testing.classify(svclass)\n",
    "    testAccuracy = svTesting.errorMatrix('class', 'classification');\n",
    "    kappa= testAccuracy.kappa();       \n",
    "    return kappa\n",
    "\n",
    "\n",
    "kappa_gama=gamma_vals.map(gammas)\n",
    "value_info = kappa_gama.getInfo()\n",
    "\n",
    "# print(rmse_gama.getInfo())\n",
    "\n",
    "import pandas as pd\n",
    "df =pd.DataFrame(value_info,columns=['kappa'])\n",
    "df['Gamma'] = gamma_vals.getInfo() \n",
    "\n",
    "ax =df.plot.line(x='Gamma', \n",
    "             y='kappa',\n",
    "             title= 'Impact of Gamma in SV'\n",
    "             )\n",
    "ax.grid()"
   ]
  },
  {
   "cell_type": "markdown",
   "metadata": {},
   "source": [
    "### CART"
   ]
  },
  {
   "cell_type": "code",
   "execution_count": null,
   "metadata": {},
   "outputs": [],
   "source": [
    "leaf_vals = ee.List.sequence(1, 20, 1)\n",
    "\n",
    "\n",
    "def leaves(t):\n",
    "    cartclass= ee.Classifier.smileCart(minLeafPopulation=t).train(\n",
    "      features= training, \n",
    "      classProperty= 'class', \n",
    "      inputProperties= predictionBands\n",
    "    )\n",
    "    \n",
    "    cartTesting = testing.classify(cartclass)\n",
    "    testAccuracy = cartTesting.errorMatrix('class', 'classification');\n",
    "    kappa= testAccuracy.kappa();       \n",
    "    return kappa\n",
    "\n",
    "\n",
    "kappa_leaf=leaf_vals.map(leaves)\n",
    "value_info = kappa_leaf.getInfo()\n",
    "\n",
    "# print(rmse_gama.getInfo())\n",
    "\n",
    "import pandas as pd\n",
    "df =pd.DataFrame(value_info,columns=['kappa'])\n",
    "df['leaf'] = leaf_vals.getInfo() \n",
    "\n",
    "ax =df.plot.line(x='leaf', \n",
    "             y='kappa',\n",
    "             title= 'Impact of minLeafPopulation in cart'\n",
    "             )\n",
    "ax.grid()"
   ]
  },
  {
   "cell_type": "code",
   "execution_count": null,
   "metadata": {},
   "outputs": [],
   "source": []
  },
  {
   "cell_type": "code",
   "execution_count": null,
   "metadata": {},
   "outputs": [],
   "source": []
  },
  {
   "cell_type": "code",
   "execution_count": null,
   "metadata": {},
   "outputs": [],
   "source": []
  },
  {
   "cell_type": "code",
   "execution_count": null,
   "metadata": {},
   "outputs": [],
   "source": []
  },
  {
   "cell_type": "code",
   "execution_count": null,
   "metadata": {},
   "outputs": [],
   "source": []
  }
 ],
 "metadata": {
  "kernelspec": {
   "display_name": "Python 3 (ipykernel)",
   "language": "python",
   "name": "python3"
  },
  "language_info": {
   "codemirror_mode": {
    "name": "ipython",
    "version": 3
   },
   "file_extension": ".py",
   "mimetype": "text/x-python",
   "name": "python",
   "nbconvert_exporter": "python",
   "pygments_lexer": "ipython3",
   "version": "3.9.7"
  },
  "latex_envs": {
   "LaTeX_envs_menu_present": true,
   "autoclose": false,
   "autocomplete": true,
   "bibliofile": "biblio.bib",
   "cite_by": "apalike",
   "current_citInitial": 1,
   "eqLabelWithNumbers": true,
   "eqNumInitial": 1,
   "hotkeys": {
    "equation": "Ctrl-E",
    "itemize": "Ctrl-I"
   },
   "labels_anchors": false,
   "latex_user_defs": false,
   "report_style_numbering": false,
   "user_envs_cfg": false
  },
  "widgets": {
   "application/vnd.jupyter.widget-state+json": {
    "state": {},
    "version_major": 2,
    "version_minor": 0
   }
  }
 },
 "nbformat": 4,
 "nbformat_minor": 4
}

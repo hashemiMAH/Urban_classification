{
 "cells": [
  {
   "cell_type": "markdown",
   "metadata": {},
   "source": [
    "### Classification Urban Area using NAIP "
   ]
  },
  {
   "cell_type": "code",
   "execution_count": 81,
   "metadata": {},
   "outputs": [
    {
     "name": "stdout",
     "output_type": "stream",
     "text": [
      "Updated by Masoumeh Hashemi,  April 29, 2023\n"
     ]
    }
   ],
   "source": [
    "from datetime import date\n",
    "today = date.today()\n",
    "d2 = today.strftime(\"%B %d, %Y\")\n",
    "print(\"Updated by Masoumeh Hashemi, \", d2) "
   ]
  },
  {
   "cell_type": "markdown",
   "metadata": {},
   "source": [
    " Python Scrprit has been developed in HydroShare  \n",
    "\n",
    "\n",
    "***ATENTION:*** before running this lab, upgrade geemap, please go to File, New, Terminal, and pass the following command:"
   ]
  },
  {
   "cell_type": "raw",
   "metadata": {},
   "source": [
    "pip install -U geemap"
   ]
  },
  {
   "cell_type": "markdown",
   "metadata": {},
   "source": [
    "### The goal of this study is to classify Urban area into three classes including: Street , Building, Landascape area "
   ]
  },
  {
   "cell_type": "markdown",
   "metadata": {},
   "source": [
    "### 1. Introduction to classification and regression\n",
    "For present purposes, define prediction as guessing the value of some geographic variable of interest *g*, using a function *G* that takes as input a pixel vector **p**:"
   ]
  },
  {
   "cell_type": "markdown",
   "metadata": {},
   "source": [
    "\\begin{equation}\n",
    "G_{T}(p_i) = g_i \n",
    "\\end{equation}"
   ]
  },
  {
   "cell_type": "markdown",
   "metadata": {},
   "source": [
    "The *i* in this equation refers to a particular instance from a set of pixels.  Think of *G* as a guessing function and *gi* as the guess for pixel *i*.   The **T** in the subscript of *G* refers to a *training set* (a set of known values for p and the correct g), used to infer the structure of G.  You have to choose a suitable *G* to train with **T**.  When *g* is nominal (e.g. {'water', 'vegetation', 'bare'}), call this setup classification.  When g is numeric, call this setup regression.  This is an incredibly simplistic description of a problem addressed in a broad range of fields including mathematics, statistics, data mining, machine learning, etc.  Interested readers may see [Witten et al. (2011)](http://www.cs.waikato.ac.nz/ml/weka/book.html), [Hastie et al. (2009)](http://statweb.stanford.edu/~tibs/ElemStatLearn/) or [Goodfellow et al (2016)](http://www.deeplearningbook.org/)."
   ]
  },
  {
   "cell_type": "markdown",
   "metadata": {},
   "source": [
    "### Classification\n",
    "Classification in Earth Engine has a similar workflow to regression: build the training, train the classifier, classify an image.\n"
   ]
  },
  {
   "cell_type": "markdown",
   "metadata": {},
   "source": [
    "In classification, g is nominal.  The first step is to create training data manually.  (Alternatively, upload a shapefile  training data (of points or polygons), for example data collected on the ground with a GPS).  Using Google Earth we can also digitize training polygons."
   ]
  },
  {
   "cell_type": "markdown",
   "metadata": {},
   "source": [
    "#### Creat Base map "
   ]
  },
  {
   "cell_type": "code",
   "execution_count": 82,
   "metadata": {},
   "outputs": [
    {
     "data": {
      "application/vnd.jupyter.widget-view+json": {
       "model_id": "5d584e9eac27492ea2bc83a7a51ee989",
       "version_major": 2,
       "version_minor": 0
      },
      "text/plain": [
       "Map(center=[20, 0], controls=(WidgetControl(options=['position', 'transparent_bg'], widget=HBox(children=(Togg…"
      ]
     },
     "metadata": {},
     "output_type": "display_data"
    }
   ],
   "source": [
    "import ee\n",
    "ee.Initialize()\n",
    "\n",
    "import geemap\n",
    "Map = geemap.Map()\n",
    "Map"
   ]
  },
  {
   "cell_type": "markdown",
   "metadata": {},
   "source": [
    "### import a NAIP image for Logan,Utah,USA\n"
   ]
  },
  {
   "cell_type": "markdown",
   "metadata": {},
   "source": [
    " ##### use the web page  to find your study area https://www.latlong.net/ website"
   ]
  },
  {
   "cell_type": "markdown",
   "metadata": {},
   "source": [
    "Define the rectangular "
   ]
  },
  {
   "cell_type": "code",
   "execution_count": 83,
   "metadata": {},
   "outputs": [],
   "source": [
    "latitude = 41.987771\n",
    "longitude= -112.033829\n",
    "\n",
    "aoi = ee.Geometry.Rectangle([-114.052791,41.987771, -112.025840,40.987252 ]);"
   ]
  },
  {
   "cell_type": "markdown",
   "metadata": {},
   "source": [
    "## -NAIP.¶\n",
    "The National Agriculture Imagery Program (NAIP) is an effort to acquire imagery over the continental US on a 3-year rotation using airborne sensors. The imagery have a spatial resolution of 1-2 meters.\n",
    "\n",
    "Search for 'naip' and import the first result (which should be 'NAIP: National Agriculture Imagery Program'. Name the import naip.\n",
    "\n",
    "Since NAIP imagery is distributed as quarters of Digital Ortho Quads (DOQs) at irregular cadence, load everything from the most recent year in the acquisition cycle (2012) over the study area and mosaic() it:\n",
    "\n",
    "https://www.google.com/search?q=clip+images+in+geemap&rlz=1C1CHBF_enUS1040US1041&oq=clip+images+in+geemap&aqs=chrome..69i57j33i160l2.7788j0j15&sourceid=chrome&ie=UTF-8#fpstate=ive&vld=cid:a0d01531,vid:43A1g-8xHgY\n",
    "\n",
    "https://developers.google.com/earth-engine/apidocs/ee-image-clip\n",
    "https://developers.google.com/earth-engine/apidocs/ee-image-clip\n",
    "https://developers.google.com/earth-engine/apidocs/ee-image-clip"
   ]
  },
  {
   "cell_type": "markdown",
   "metadata": {},
   "source": [
    "### Importing Area of Interest "
   ]
  },
  {
   "cell_type": "code",
   "execution_count": 84,
   "metadata": {},
   "outputs": [],
   "source": [
    "logan_shp =\"logan.shp\"\n",
    "logan_shp\n",
    "logan_shp = geemap.shp_to_ee(logan_shp)\n",
    "Map.addLayer(logan_shp)\n"
   ]
  },
  {
   "cell_type": "markdown",
   "metadata": {},
   "source": [
    "### Importing NAIP Images "
   ]
  },
  {
   "cell_type": "code",
   "execution_count": 85,
   "metadata": {},
   "outputs": [
    {
     "name": "stdout",
     "output_type": "stream",
     "text": [
      "['R', 'G', 'B', 'N']\n"
     ]
    },
    {
     "data": {
      "text/plain": [
       "<ee.image.Image at 0x7f39b63df190>"
      ]
     },
     "execution_count": 85,
     "metadata": {},
     "output_type": "execute_result"
    }
   ],
   "source": [
    "\n",
    "\n",
    "UT =ee.ImageCollection(\"USDA/NAIP/DOQQ\").filterDate('2017-01-01', '2018-12-31').filterBounds(logan_shp)\n",
    "\n",
    "UT = UT.mosaic();\n",
    "# Clip the image based on AOI\n",
    "UT_logan=UT.clip(logan_shp)\n",
    "# Print the image band names to the console.\n",
    "band_names = UT_logan.bandNames()\n",
    "print(band_names.getInfo())\n",
    "UT_logan"
   ]
  },
  {
   "cell_type": "markdown",
   "metadata": {},
   "source": [
    "#### Adding the image to the Map "
   ]
  },
  {
   "cell_type": "code",
   "execution_count": 86,
   "metadata": {},
   "outputs": [
    {
     "data": {
      "application/vnd.jupyter.widget-view+json": {
       "model_id": "5d584e9eac27492ea2bc83a7a51ee989",
       "version_major": 2,
       "version_minor": 0
      },
      "text/plain": [
       "Map(bottom=754.0, center=[20, 0], controls=(WidgetControl(options=['position', 'transparent_bg'], widget=HBox(…"
      ]
     },
     "metadata": {},
     "output_type": "display_data"
    }
   ],
   "source": [
    "Map.addLayer(UT_logan, {'bands': ['R', 'G', 'B'], 'max': 255}, name='NAIP')\n",
    "Map.centerObject(aoi)\n",
    "Map"
   ]
  },
  {
   "cell_type": "markdown",
   "metadata": {},
   "source": [
    "Define areas that have unique characteristics: Street ( Parking Lot), water, vegetation"
   ]
  },
  {
   "cell_type": "markdown",
   "metadata": {},
   "source": [
    "We can use NDVI for help in diferentiating these areas:"
   ]
  },
  {
   "cell_type": "markdown",
   "metadata": {},
   "source": [
    "### Make training dataset\n",
    "\n",
    "There are several ways you can create a region for generating the training dataset.\n",
    "\n",
    "- Draw a shape (e.g., rectangle) on the map and the use `region = Map.user_roi`\n",
    "- Define a geometry, such as `region = ee.Geometry.Rectangle([-122.6003, 37.4831, -121.8036, 37.8288])`\n",
    "- Create a buffer zone around a point, such as `region = ee.Geometry.Point([-122.4439, 37.7538]).buffer(10000)`\n",
    "- If you don't define a region, it will use the image footprint by default"
   ]
  },
  {
   "cell_type": "code",
   "execution_count": 87,
   "metadata": {},
   "outputs": [],
   "source": [
    "#REC1\n",
    "poly = ee.Geometry.Rectangle([-111.832846, 41.760899, -111.831617, 41.760070])\n",
    "\n",
    "# // Create a Feature from the Geometry.\n",
    "streetl= ee.Feature(poly, {'class': 2, 'name': 'street'});\n",
    "#Map.addLayer(streetl, {'fill_color':'yellow', 'outline': 1}, name='streetl')\n",
    "\n",
    "#REC2\n",
    "poly = ee.Geometry.Rectangle([-111.831689,41.7402207, -111.830956, 41.739764])\n",
    "\n",
    "# // Create a Feature from the Geometry.\n",
    "street2 = ee.Feature(poly , {'class': 2, 'name': 'street'});\n",
    "#Map.addLayer(street2, {'fill_color':'yellow', 'outline': 1}, name='street2')\n",
    "#REC3\n",
    "poly = ee.Geometry.Rectangle([-111.837205,41.734306, -111.836638,41.7338021])\n",
    "\n",
    "# // Create a Feature from the Geometry.\n",
    "street3 = ee.Feature(poly, {'class': 2, 'name': 'street'});\n",
    "#Map.addLayer(street3, {'fill_color':'yellow', 'outline': 1}, name='street3')\n",
    "#Map"
   ]
  },
  {
   "cell_type": "code",
   "execution_count": 88,
   "metadata": {},
   "outputs": [],
   "source": [
    "# FOR VEGETATION\n",
    "\n",
    "#Rec1\n",
    "poly= ee.Geometry.Rectangle([-111.830666,41.749691,-111.829679, 41.749211])\n",
    "vegetationl = ee.Feature(poly, {'class': 1, 'name': 'vegetation'});\n",
    "#Map.addLayer(vegetationl , {'fill_color':'green', 'outline': 1}, name='vegetationl')\n",
    "\n",
    "#Rec2\n",
    "poly= ee.Geometry.Rectangle([-111.836743,41.747952,-111.836078, 41.746976])\n",
    "\n",
    "# // Create a Feature from the Geometry.\n",
    "vegetation2 = ee.Feature(poly, {'class': 1, 'name': 'vegetation'});\n",
    "#Map.addLayer(vegetation2, {'fill_color':'green', 'outline': 1}, name='vegetation2')\n",
    "#Rec3\n",
    "poly = ee.Geometry.Rectangle([-111.848104,41.755461,-111.846472,41.754757])\n",
    "# // Create a Feature from the Geometry.\n",
    "vegetation3 = ee.Feature(poly, {'class': 1, 'name': 'vegetation'});\n",
    "Map.addLayer(vegetation3, {'fill_color':'green', 'outline': 1}, name='vegetation3')\n",
    "\n",
    "#Map"
   ]
  },
  {
   "cell_type": "code",
   "execution_count": 89,
   "metadata": {},
   "outputs": [
    {
     "data": {
      "application/vnd.jupyter.widget-view+json": {
       "model_id": "5d584e9eac27492ea2bc83a7a51ee989",
       "version_major": 2,
       "version_minor": 0
      },
      "text/plain": [
       "Map(bottom=754.0, center=[41.48974011436519, -113.0393155], controls=(WidgetControl(options=['position', 'tran…"
      ]
     },
     "metadata": {},
     "output_type": "display_data"
    }
   ],
   "source": [
    "# FOR Building \n",
    "\n",
    "#Rec1\n",
    "poly = ee.Geometry.Rectangle([-111.812329,41.747856, -111.811556, 41.747296])\n",
    "Buildingl = ee.Feature(poly, {'class':0, 'name': 'Building'});\n",
    "#Map.addLayer(Buildingl, {'fill_color':'gray', 'outline': 1}, name='Buildingl')\n",
    "\n",
    "#Rec2\n",
    "poly= ee.Geometry.Rectangle([-111.816211,41.754724, -111.815780, 41.754031])\n",
    "\n",
    "# // Create a Feature from the Geometry.\n",
    "Building2 = ee.Feature(poly, {'class': 0, 'name': 'Building'});\n",
    "#Map.addLayer(Building2, {'fill_color':'gray', 'outline': 1}, name='Building2')\n",
    "#Rec3\n",
    "poly= ee.Geometry.Rectangle([-111.821893,41.756152,-111.821936, 41.755607])\n",
    "\n",
    "#// Create a Feature from the Geometry.\n",
    "Building3 = ee.Feature(poly, {'class': 0, 'name': 'Building'});\n",
    "#Map.addLayer(Building3, {'fill_color':'gray', 'outline': 1}, name='Building3')\n",
    "\n",
    "Map"
   ]
  },
  {
   "cell_type": "markdown",
   "metadata": {},
   "source": [
    "### Calculate vegetation indicators"
   ]
  },
  {
   "cell_type": "markdown",
   "metadata": {},
   "source": [
    "#### NDVI(Normalized Difference Vegetation Index )\n"
   ]
  },
  {
   "cell_type": "code",
   "execution_count": 90,
   "metadata": {},
   "outputs": [],
   "source": [
    "img_name=\"ndvi\"\n",
    "ndvi=UT_logan.normalizedDifference(['N', 'R'])\n",
    "UT_logan2 = UT_logan.addBands(ndvi)"
   ]
  },
  {
   "cell_type": "code",
   "execution_count": 91,
   "metadata": {},
   "outputs": [
    {
     "data": {
      "text/plain": [
       "['R', 'G', 'B', 'N', 'nd']"
      ]
     },
     "execution_count": 91,
     "metadata": {},
     "output_type": "execute_result"
    }
   ],
   "source": [
    "UT_logan2.bandNames().getInfo()"
   ]
  },
  {
   "cell_type": "markdown",
   "metadata": {},
   "source": [
    "#### EXG (Excess Green Index )\n"
   ]
  },
  {
   "cell_type": "code",
   "execution_count": 92,
   "metadata": {},
   "outputs": [],
   "source": [
    "exg = UT_logan2.select('G', 'R', 'B').expression(\n",
    "  '(2 * b2) - b1 - b3', {\n",
    "    'b1': UT_logan2.select('R'),  # Red\n",
    "    'b2': UT_logan2.select('G'),  # Green\n",
    "    'b3': UT_logan2.select('B')   # Blue\n",
    "})"
   ]
  },
  {
   "cell_type": "code",
   "execution_count": 93,
   "metadata": {},
   "outputs": [],
   "source": [
    "UT_logan3 = UT_logan2.addBands(exg)"
   ]
  },
  {
   "cell_type": "markdown",
   "metadata": {},
   "source": [
    "#### EVI(Enhanced Vegetation Index)\n"
   ]
  },
  {
   "cell_type": "code",
   "execution_count": 94,
   "metadata": {},
   "outputs": [],
   "source": [
    "\n",
    "evi = UT_logan3.select('R', 'B','N').expression(\n",
    "    '2.5 * ((nir - red) / (nir + 6 * red - 7.5 * blue + 1))',  {\n",
    "    'nir': UT_logan3.select('N'),  # Near-infrared (NIR)\n",
    "    'red': UT_logan3.select('R'),  # Red\n",
    "    'blue':UT_logan3.select('B')  # Blue\n",
    "})\n",
    " "
   ]
  },
  {
   "cell_type": "code",
   "execution_count": 95,
   "metadata": {},
   "outputs": [],
   "source": [
    "UT_logan4= UT_logan3.addBands(evi)"
   ]
  },
  {
   "cell_type": "markdown",
   "metadata": {},
   "source": [
    "#### GCI (Green Chlorophyll Index)\n"
   ]
  },
  {
   "cell_type": "code",
   "execution_count": 96,
   "metadata": {},
   "outputs": [],
   "source": [
    "\n",
    "GCI = UT_logan4.select('G', 'B').expression(\n",
    "    '(green/ blue)-1',  {\n",
    "    \n",
    "    'green': UT_logan4.select('G'),  # green\n",
    "    'blue':UT_logan4.select('B')  # Blue\n",
    "})"
   ]
  },
  {
   "cell_type": "code",
   "execution_count": 97,
   "metadata": {},
   "outputs": [],
   "source": [
    "UT_logan5= UT_logan4.addBands(GCI)\n"
   ]
  },
  {
   "cell_type": "markdown",
   "metadata": {},
   "source": [
    "##### Set New Name for new Bands"
   ]
  },
  {
   "cell_type": "code",
   "execution_count": 98,
   "metadata": {},
   "outputs": [
    {
     "data": {
      "text/plain": [
       "['R', 'G', 'B', 'N', 'nd', 'constant', 'constant_1', 'G_1']"
      ]
     },
     "execution_count": 98,
     "metadata": {},
     "output_type": "execute_result"
    }
   ],
   "source": [
    "UT_logan5.bandNames().getInfo()"
   ]
  },
  {
   "cell_type": "code",
   "execution_count": 99,
   "metadata": {},
   "outputs": [],
   "source": [
    "band_names =UT_logan5.bandNames().getInfo()"
   ]
  },
  {
   "cell_type": "code",
   "execution_count": 100,
   "metadata": {},
   "outputs": [
    {
     "data": {
      "text/plain": [
       "['R', 'G', 'B', 'N', 'nd', 'constant', 'constant_1', 'G_1']"
      ]
     },
     "execution_count": 100,
     "metadata": {},
     "output_type": "execute_result"
    }
   ],
   "source": [
    "band_names"
   ]
  },
  {
   "cell_type": "code",
   "execution_count": 101,
   "metadata": {},
   "outputs": [],
   "source": [
    "new_band_names = ['R', 'G', 'B', 'N', 'ndvi', 'exg', 'EVI','GCI']"
   ]
  },
  {
   "cell_type": "code",
   "execution_count": 102,
   "metadata": {},
   "outputs": [],
   "source": [
    "renamed_image = UT_logan5.select(band_names).rename(new_band_names)"
   ]
  },
  {
   "cell_type": "code",
   "execution_count": 103,
   "metadata": {},
   "outputs": [
    {
     "name": "stdout",
     "output_type": "stream",
     "text": [
      "New band names: ['R', 'G', 'B', 'N', 'ndvi', 'exg', 'EVI', 'GCI']\n"
     ]
    }
   ],
   "source": [
    "print('New band names:', renamed_image.bandNames().getInfo())"
   ]
  },
  {
   "cell_type": "markdown",
   "metadata": {},
   "source": [
    "##### Dipaly Bands and Vegetation Indicators "
   ]
  },
  {
   "cell_type": "code",
   "execution_count": 104,
   "metadata": {},
   "outputs": [
    {
     "data": {
      "application/vnd.jupyter.widget-view+json": {
       "model_id": "5d584e9eac27492ea2bc83a7a51ee989",
       "version_major": 2,
       "version_minor": 0
      },
      "text/plain": [
       "Map(bottom=49196.0, center=[41.50857729743935, -113.20312500000001], controls=(WidgetControl(options=['positio…"
      ]
     },
     "metadata": {},
     "output_type": "display_data"
    }
   ],
   "source": [
    "Map.addLayer(renamed_image, {'bands': ['R', 'G', 'B'], 'max': 255}, name='NAIP')\n",
    "# vis_params = {\n",
    "#   'min': 0,\n",
    "#   'max': 1.0,\n",
    "#   'palette': ['blue','white','brown','yellow', 'lime', 'green','navy']}\n",
    "\n",
    "vegPalette = ['white','red','yellow', 'green','blue']\n",
    "Map.addLayer(renamed_image, {'bands': ['ndvi'], 'min': 0, 'max': 1.0, 'palette': vegPalette},name = 'NDVI')\n",
    "\n",
    "Map.addLayer(renamed_image, {'bands': ['exg'], 'min': 0, 'max': 2, 'palette': vegPalette}, name='exg')\n",
    "Map.addLayer(renamed_image, {'bands': ['EVI'], 'min': 0, 'max': 2, 'palette': vegPalette}, name='EVI')\n",
    "Map.addLayer(renamed_image, {'bands': ['GCI'], 'min': -1, 'max': 1, 'palette': vegPalette}, name='GCI')\n",
    "Map.centerObject(aoi)\n",
    "Map"
   ]
  },
  {
   "cell_type": "code",
   "execution_count": 105,
   "metadata": {},
   "outputs": [],
   "source": [
    "trainingFeatures = ee.FeatureCollection([Buildingl,Building2,Building3,vegetationl, vegetation2, vegetation3, streetl, street2, street3 ])"
   ]
  },
  {
   "cell_type": "markdown",
   "metadata": {},
   "source": [
    "Specify the bands of the Landsat composite to be used as predictors (i.e. the elements of p):\n"
   ]
  },
  {
   "cell_type": "code",
   "execution_count": 106,
   "metadata": {},
   "outputs": [],
   "source": [
    "predictionBands = ['N', 'R', 'G', 'B']"
   ]
  },
  {
   "cell_type": "markdown",
   "metadata": {},
   "source": [
    "In the merged FeatureCollection, each Feature should have a property called 'class' where the classes are consecutive integers, one for each class, starting at 0. Verify that this is true."
   ]
  },
  {
   "cell_type": "code",
   "execution_count": 107,
   "metadata": {},
   "outputs": [
    {
     "name": "stdout",
     "output_type": "stream",
     "text": [
      "R\n",
      "G\n",
      "B\n",
      "N\n",
      "ndvi\n",
      "exg\n",
      "EVI\n",
      "GCI\n"
     ]
    }
   ],
   "source": [
    "band_names = renamed_image.getInfo()['bands']\n",
    "for band in band_names:\n",
    "    print(band['id'])"
   ]
  },
  {
   "cell_type": "code",
   "execution_count": 108,
   "metadata": {},
   "outputs": [
    {
     "name": "stdout",
     "output_type": "stream",
     "text": [
      "{'type': 'Feature', 'geometry': {'type': 'Polygon', 'coordinates': [[[-111.812329, 41.747296], [-111.811556, 41.747296], [-111.811556, 41.747856], [-111.812329, 41.747856], [-111.812329, 41.747296]]]}, 'id': '0', 'properties': {'class': 0, 'name': 'Building'}}\n"
     ]
    }
   ],
   "source": [
    "print(trainingFeatures.first().getInfo())"
   ]
  },
  {
   "cell_type": "markdown",
   "metadata": {},
   "source": [
    "  Create a training set T for the classifier by sampling the Landsat composite with the merged features:"
   ]
  },
  {
   "cell_type": "code",
   "execution_count": 109,
   "metadata": {},
   "outputs": [],
   "source": [
    "classifierTraining = renamed_image.select(predictionBands).sampleRegions(\n",
    "      collection= trainingFeatures, \n",
    "      properties= ['class'], \n",
    "      scale= 30\n",
    "    );"
   ]
  },
  {
   "cell_type": "code",
   "execution_count": 110,
   "metadata": {},
   "outputs": [],
   "source": [
    "# // Randomly split the data into 60% for training, and 40% for testing\n",
    "trainingTesting = classifierTraining.randomColumn('random',111009);\n",
    "\n",
    "training = trainingTesting.filter(ee.Filter.lt('random', 0.66));\n",
    "\n",
    "testing = trainingTesting.filter(ee.Filter.gte('random', 0.66));"
   ]
  },
  {
   "cell_type": "markdown",
   "metadata": {},
   "source": [
    "### - Non-linear regression functions"
   ]
  },
  {
   "cell_type": "markdown",
   "metadata": {},
   "source": [
    "There is a pletora of options for classification in Google Earth Engine. Here is an screenshot of these options:"
   ]
  },
  {
   "cell_type": "code",
   "execution_count": 111,
   "metadata": {},
   "outputs": [
    {
     "data": {
      "text/html": [
       "<img src=\"https://i.imgur.com/vROsEiq.png\"/>"
      ],
      "text/plain": [
       "<IPython.core.display.Image object>"
      ]
     },
     "execution_count": 111,
     "metadata": {},
     "output_type": "execute_result"
    }
   ],
   "source": [
    "# ![](https://i.imgur.com/vROsEiq.png)\n",
    "from IPython.display import Image\n",
    "from IPython.core.display import HTML \n",
    "Image(url= \"https://i.imgur.com/vROsEiq.png\")#, width=100, height=100)"
   ]
  },
  {
   "cell_type": "markdown",
   "metadata": {},
   "source": [
    "#### Classification and Regression Tree (CART)"
   ]
  },
  {
   "cell_type": "code",
   "execution_count": 112,
   "metadata": {},
   "outputs": [],
   "source": [
    "#hyperparameter to tune\n",
    "leaf_val=7\n",
    "\n",
    "cartclassifier = ee.Classifier.smileCart(minLeafPopulation=leaf_val).train(\n",
    "      features= training, \n",
    "      classProperty= 'class', \n",
    "      inputProperties= predictionBands\n",
    "    );"
   ]
  },
  {
   "cell_type": "markdown",
   "metadata": {},
   "source": [
    "- Make predictions over the input imagery (classify in this context is a misnomer):\n"
   ]
  },
  {
   "cell_type": "code",
   "execution_count": 113,
   "metadata": {},
   "outputs": [
    {
     "data": {
      "application/vnd.jupyter.widget-view+json": {
       "model_id": "5d584e9eac27492ea2bc83a7a51ee989",
       "version_major": 2,
       "version_minor": 0
      },
      "text/plain": [
       "Map(bottom=98110.0, center=[41.49006348843996, -113.03833007812501], controls=(WidgetControl(options=['positio…"
      ]
     },
     "metadata": {},
     "output_type": "display_data"
    }
   ],
   "source": [
    "cartClasifficationImage = renamed_image.select(predictionBands).classify(cartclassifier);\n",
    "\n",
    "Map.addLayer(cartClasifficationImage, {'min': 0, 'max': 2,\n",
    "                                   'palette':['blue', 'green','yellow']},'CART classification');\n",
    "Map"
   ]
  },
  {
   "cell_type": "markdown",
   "metadata": {},
   "source": [
    "### Random Forest classifier (RF)"
   ]
  },
  {
   "cell_type": "code",
   "execution_count": 114,
   "metadata": {},
   "outputs": [],
   "source": [
    "# hyperparameter to tune\n",
    "trees_val=5\n",
    "\n",
    "rfClassification = ee.Classifier.smileRandomForest(numberOfTrees=trees_val, seed=111009).train(\n",
    "      features= training, \n",
    "      classProperty= 'class', \n",
    "      inputProperties= predictionBands\n",
    "    )"
   ]
  },
  {
   "cell_type": "code",
   "execution_count": 115,
   "metadata": {},
   "outputs": [
    {
     "data": {
      "application/vnd.jupyter.widget-view+json": {
       "model_id": "5d584e9eac27492ea2bc83a7a51ee989",
       "version_major": 2,
       "version_minor": 0
      },
      "text/plain": [
       "Map(bottom=49205.0, center=[41.49006348843996, -113.03833007812501], controls=(WidgetControl(options=['positio…"
      ]
     },
     "metadata": {},
     "output_type": "display_data"
    }
   ],
   "source": [
    "# // Perform the RF regression on the landsat image\n",
    "rfClassificationImage = renamed_image.select(predictionBands).classify(rfClassification);\n",
    "    \n",
    "# // Visualize the RF regression\n",
    "Map.addLayer(rfClassificationImage,  {'min': 0, 'max': 2,\n",
    "                                   'palette':['blue','green', 'yellow']}, 'RF classification');\n",
    "\n",
    "Map"
   ]
  },
  {
   "cell_type": "markdown",
   "metadata": {},
   "source": [
    "#### Support Vector Machines (SVM)"
   ]
  },
  {
   "cell_type": "code",
   "execution_count": 116,
   "metadata": {},
   "outputs": [],
   "source": [
    "# hyperparameter to tune\n",
    "gamma_val =0.06\n",
    "\n",
    "# // Create an SVM classifier with custom parameters.\n",
    "svClassification = ee.Classifier.libsvm(svmType='C_SVC',kernelType='RBF',gamma=gamma_val).train(\n",
    "      features= training, \n",
    "      classProperty= 'class', \n",
    "      inputProperties= predictionBands\n",
    "    )"
   ]
  },
  {
   "cell_type": "code",
   "execution_count": 117,
   "metadata": {},
   "outputs": [
    {
     "data": {
      "application/vnd.jupyter.widget-view+json": {
       "model_id": "5d584e9eac27492ea2bc83a7a51ee989",
       "version_major": 2,
       "version_minor": 0
      },
      "text/plain": [
       "Map(bottom=49205.0, center=[41.49006348843996, -113.03833007812501], controls=(WidgetControl(options=['positio…"
      ]
     },
     "metadata": {},
     "output_type": "display_data"
    }
   ],
   "source": [
    "# // Perform the RF regression on the landsat image\n",
    "svClassificationImage = renamed_image.select(predictionBands).classify(svClassification);\n",
    "    \n",
    "# // Visualize the RF regression\n",
    "Map.addLayer(svClassificationImage,{'min': 0, 'max': 2,\n",
    "                                   'palette':['blue', 'green','yellow']}, 'SV CLassification');\n",
    "Map"
   ]
  },
  {
   "cell_type": "code",
   "execution_count": 118,
   "metadata": {},
   "outputs": [
    {
     "name": "stdout",
     "output_type": "stream",
     "text": [
      "ConfusionMatrix\n",
      "[[ 2  2  0]\n",
      " [ 0 12  0]\n",
      " [ 0  1  0]]\n",
      "Overall Accuracy: 0.8235294117647058\n",
      "Producers Accuracy: [[0.5], [1], [0]]\n",
      "Consumers Accuracy: [[1, 0.8, 0]]\n",
      "Kappa: 0.495049504950495\n"
     ]
    }
   ],
   "source": [
    "# // Perform the RF classification on the test set\n",
    "import  numpy as np \n",
    "test=testing.classify(rfClassification)\n",
    "# print(test.first().getInfo())\n",
    "# // Get a confusion matrix representing expected accuracy.\n",
    "testAccuracy = test.errorMatrix('class', 'classification');\n",
    "\n",
    "errormaxtrix=np.array(testAccuracy.array().getInfo())\n",
    "\n",
    "print(testAccuracy.name());\n",
    "print(errormaxtrix)\n",
    "print('Overall Accuracy:', testAccuracy.accuracy().getInfo());\n",
    "print('Producers Accuracy:', testAccuracy.producersAccuracy().getInfo());\n",
    "print('Consumers Accuracy:', testAccuracy.consumersAccuracy().getInfo());\n",
    "print('Kappa:', testAccuracy.kappa().getInfo());\n"
   ]
  },
  {
   "cell_type": "markdown",
   "metadata": {},
   "source": [
    "In the classification context, accuracy measurements are often derived from a [confusion matrix](https://en.wikipedia.org/wiki/Confusion_matrix)."
   ]
  },
  {
   "cell_type": "markdown",
   "metadata": {},
   "source": [
    "### Accuracy Assessment"
   ]
  },
  {
   "cell_type": "markdown",
   "metadata": {},
   "source": [
    "Print the confusion matrix and expand the object to inspect the matrix.  The entries represent number of pixels.  Items on the diagonal represent correct classification.  Items off the diagonal are misclassifications, where the class in row i is classified as column j.  It's also possible to get basic descriptive statistics from the confusion matrix.  For example:"
   ]
  },
  {
   "cell_type": "markdown",
   "metadata": {},
   "source": [
    "### What is a confusion matrix?\n",
    "\n",
    "A confusion matrix is used here to compare two different data, one the true value and the other the predicted values. We will be using it primarily to compute overall accuracy between the model and the different machine learning results, but confusion matrices also provide explicit information about which  classes were classified incorrectly; not just if pixels were classified incorrectly, but what class they were incorrectly classified as. For an example of how to use and interpret a confusion matrix for LULC remote sensing visit https://www.harrisgeospatial.com/docs/CalculatingConfusionMatrices.html and \n",
    "http://gsp.humboldt.edu/olm_2019/courses/GSP_216_Online/lesson6-2/metrics.html"
   ]
  },
  {
   "cell_type": "code",
   "execution_count": 119,
   "metadata": {},
   "outputs": [],
   "source": [
    "# // Perform the CART classification on the test set\n",
    "\n",
    "test=testing.classify(cartclassifier)\n",
    "# print(test.first().getInfo())\n",
    "# // Get a confusion matrix representing expected accuracy.\n",
    "testAccuracy = test.errorMatrix('class', 'classification');"
   ]
  },
  {
   "cell_type": "code",
   "execution_count": 120,
   "metadata": {},
   "outputs": [
    {
     "name": "stdout",
     "output_type": "stream",
     "text": [
      "ConfusionMatrix\n",
      "[[ 2  2  0]\n",
      " [ 2 10  0]\n",
      " [ 0  1  0]]\n",
      "Overall Accuracy: 0.7058823529411765\n",
      "Producers Accuracy: [[0.5], [0.8333333333333334], [0]]\n",
      "Consumers Accuracy: [[0.5, 0.7692307692307693, 0]]\n",
      "Kappa: 0.2735042735042736\n"
     ]
    }
   ],
   "source": [
    "import numpy as np\n",
    "errormaxtrix=np.array(testAccuracy.array().getInfo())\n",
    "\n",
    "print(testAccuracy.name());\n",
    "print(errormaxtrix)\n",
    "print('Overall Accuracy:', testAccuracy.accuracy().getInfo());\n",
    "print('Producers Accuracy:', testAccuracy.producersAccuracy().getInfo());\n",
    "print('Consumers Accuracy:', testAccuracy.consumersAccuracy().getInfo());\n",
    "print('Kappa:', testAccuracy.kappa().getInfo());\n",
    "\n"
   ]
  },
  {
   "cell_type": "code",
   "execution_count": 121,
   "metadata": {},
   "outputs": [
    {
     "data": {
      "image/png": "[encoded data removed]",
      "text/plain": [
       "<Figure size 432x288 with 2 Axes>"
      ]
     },
     "metadata": {
      "needs_background": "light"
     },
     "output_type": "display_data"
    }
   ],
   "source": [
    "import numpy as np\n",
    "from sklearn.metrics import confusion_matrix, ConfusionMatrixDisplay\n",
    "import matplotlib.pyplot as plt\n",
    "errormaxtrix=np.array(testAccuracy.array().getInfo())\n",
    "cm_display = ConfusionMatrixDisplay(confusion_matrix = errormaxtrix, display_labels = [\"Building\", \"landsacpe\",\"Street\"])\n",
    "\n",
    "cm_display.plot()\n",
    "plt.show()\n"
   ]
  },
  {
   "cell_type": "code",
   "execution_count": 122,
   "metadata": {},
   "outputs": [
    {
     "name": "stdout",
     "output_type": "stream",
     "text": [
      "ConfusionMatrix\n",
      "[[ 2  2  0]\n",
      " [ 0 12  0]\n",
      " [ 0  1  0]]\n",
      "Overall Accuracy: 0.8235294117647058\n",
      "Producers Accuracy: [[0.5], [1], [0]]\n",
      "Consumers Accuracy: [[1, 0.8, 0]]\n",
      "Kappa: 0.495049504950495\n"
     ]
    }
   ],
   "source": [
    "# // Perform the RF classification on the test set\n",
    "\n",
    "test=testing.classify(rfClassification)\n",
    "# print(test.first().getInfo())\n",
    "# // Get a confusion matrix representing expected accuracy.\n",
    "testAccuracy = test.errorMatrix('class', 'classification');\n",
    "\n",
    "errormaxtrix=np.array(testAccuracy.array().getInfo())\n",
    "\n",
    "print(testAccuracy.name());\n",
    "print(errormaxtrix)\n",
    "print('Overall Accuracy:', testAccuracy.accuracy().getInfo());\n",
    "print('Producers Accuracy:', testAccuracy.producersAccuracy().getInfo());\n",
    "print('Consumers Accuracy:', testAccuracy.consumersAccuracy().getInfo());\n",
    "print('Kappa:', testAccuracy.kappa().getInfo());\n"
   ]
  },
  {
   "cell_type": "code",
   "execution_count": 123,
   "metadata": {},
   "outputs": [
    {
     "data": {
      "image/png": "[encoded data removed]",
      "text/plain": [
       "<Figure size 432x288 with 2 Axes>"
      ]
     },
     "metadata": {
      "needs_background": "light"
     },
     "output_type": "display_data"
    }
   ],
   "source": [
    "import numpy as np\n",
    "from sklearn.metrics import confusion_matrix, ConfusionMatrixDisplay\n",
    "import matplotlib.pyplot as plt\n",
    "errormaxtrix=np.array(testAccuracy.array().getInfo())\n",
    "cm_display = ConfusionMatrixDisplay(confusion_matrix = errormaxtrix, display_labels = [\"Building\", \"landsacpe\",\"Street\"])\n",
    "\n",
    "cm_display.plot()\n",
    "plt.show()"
   ]
  },
  {
   "cell_type": "code",
   "execution_count": 124,
   "metadata": {},
   "outputs": [
    {
     "name": "stdout",
     "output_type": "stream",
     "text": [
      "ConfusionMatrix\n",
      "[[ 2  2  0]\n",
      " [ 0 12  0]\n",
      " [ 0  1  0]]\n",
      "Overall Accuracy: 0.8235294117647058\n",
      "Producers Accuracy: [[0.5], [1], [0]]\n",
      "Consumers Accuracy: [[1, 0.8, 0]]\n",
      "Kappa: 0.495049504950495\n"
     ]
    }
   ],
   "source": [
    "# // Perform the SVR classification on the test set\n",
    "\n",
    "test=testing.classify(svClassification)\n",
    "# print(test.first().getInfo())\n",
    "# // Get a confusion matrix representing expected accuracy.\n",
    "testAccuracy = test.errorMatrix('class', 'classification');\n",
    "\n",
    "errormaxtrix=np.array(testAccuracy.array().getInfo())\n",
    "\n",
    "print(testAccuracy.name());\n",
    "print(errormaxtrix)\n",
    "print('Overall Accuracy:', testAccuracy.accuracy().getInfo());\n",
    "print('Producers Accuracy:', testAccuracy.producersAccuracy().getInfo());\n",
    "print('Consumers Accuracy:', testAccuracy.consumersAccuracy().getInfo());\n",
    "print('Kappa:', testAccuracy.kappa().getInfo());\n"
   ]
  },
  {
   "cell_type": "code",
   "execution_count": 125,
   "metadata": {},
   "outputs": [
    {
     "data": {
      "image/png": "[encoded data removed]",
      "text/plain": [
       "<Figure size 432x288 with 2 Axes>"
      ]
     },
     "metadata": {
      "needs_background": "light"
     },
     "output_type": "display_data"
    }
   ],
   "source": [
    "import numpy as np\n",
    "from sklearn.metrics import confusion_matrix, ConfusionMatrixDisplay\n",
    "import matplotlib.pyplot as plt\n",
    "errormaxtrix=np.array(testAccuracy.array().getInfo())\n",
    "cm_display = ConfusionMatrixDisplay(confusion_matrix = errormaxtrix, display_labels = [\"Building\", \"landsacpe\",\"Street\"])\n",
    "\n",
    "cm_display.plot()\n",
    "plt.show()"
   ]
  },
  {
   "cell_type": "markdown",
   "metadata": {},
   "source": [
    "### BONUS: Hyperparameters tuning\n",
    "\n",
    "\n"
   ]
  },
  {
   "cell_type": "markdown",
   "metadata": {},
   "source": [
    "### RF"
   ]
  },
  {
   "cell_type": "code",
   "execution_count": 126,
   "metadata": {},
   "outputs": [
    {
     "data": {
      "image/png": "[encoded data removed]",
      "text/plain": [
       "<Figure size 432x288 with 1 Axes>"
      ]
     },
     "metadata": {
      "needs_background": "light"
     },
     "output_type": "display_data"
    }
   ],
   "source": [
    "numTrees = ee.List.sequence(1, 30, 1)\n",
    "\n",
    "\n",
    "def trees(t):\n",
    "    rfclass = ee.Classifier.smileRandomForest(numberOfTrees=t, seed=111009).train(\n",
    "    features= training, \n",
    "    classProperty= 'class', \n",
    "    inputProperties= predictionBands)\n",
    "    \n",
    "    rfTesting = testing.classify(rfclass)\n",
    "    testAccuracy = rfTesting.errorMatrix('class', 'classification');\n",
    "    kappa= testAccuracy.kappa();       \n",
    "    return kappa\n",
    "\n",
    "\n",
    "kappa_trees=numTrees.map(trees)\n",
    "value_info = kappa_trees.getInfo()\n",
    "\n",
    "# print(rmse_trees.getInfo())\n",
    "\n",
    "import pandas as pd\n",
    "df =pd.DataFrame(value_info,columns=['kappa'])\n",
    "df['numTrees'] = numTrees.getInfo() \n",
    "\n",
    "ax =df.plot.line(x='numTrees', \n",
    "             y='kappa',\n",
    "             title= 'Impact of Number of Trees in Random Forest'\n",
    "             )\n",
    "ax.grid()"
   ]
  },
  {
   "cell_type": "markdown",
   "metadata": {},
   "source": [
    "### SVM "
   ]
  },
  {
   "cell_type": "code",
   "execution_count": 127,
   "metadata": {},
   "outputs": [
    {
     "data": {
      "image/png": "[encoded data removed]",
      "text/plain": [
       "<Figure size 432x288 with 1 Axes>"
      ]
     },
     "metadata": {
      "needs_background": "light"
     },
     "output_type": "display_data"
    }
   ],
   "source": [
    "gamma_vals = ee.List.sequence(0.01, 0.2, 0.05)\n",
    "\n",
    "\n",
    "def gammas(t):\n",
    "    svclass = ee.Classifier.libsvm(svmType='C_SVC',kernelType='RBF',gamma=t).train(\n",
    "      features= training, \n",
    "      classProperty= 'class', \n",
    "      inputProperties= predictionBands\n",
    "    )\n",
    "    \n",
    "    svTesting = testing.classify(svclass)\n",
    "    testAccuracy = svTesting.errorMatrix('class', 'classification');\n",
    "    kappa= testAccuracy.kappa();       \n",
    "    return kappa\n",
    "\n",
    "\n",
    "kappa_gama=gamma_vals.map(gammas)\n",
    "value_info = kappa_gama.getInfo()\n",
    "\n",
    "# print(rmse_gama.getInfo())\n",
    "\n",
    "import pandas as pd\n",
    "df =pd.DataFrame(value_info,columns=['kappa'])\n",
    "df['Gamma'] = gamma_vals.getInfo() \n",
    "\n",
    "ax =df.plot.line(x='Gamma', \n",
    "             y='kappa',\n",
    "             title= 'Impact of Gamma in SV'\n",
    "             )\n",
    "ax.grid()"
   ]
  },
  {
   "cell_type": "markdown",
   "metadata": {},
   "source": [
    "### CART"
   ]
  },
  {
   "cell_type": "code",
   "execution_count": 128,
   "metadata": {},
   "outputs": [
    {
     "data": {
      "image/png": "[encoded data removed]",
      "text/plain": [
       "<Figure size 432x288 with 1 Axes>"
      ]
     },
     "metadata": {
      "needs_background": "light"
     },
     "output_type": "display_data"
    }
   ],
   "source": [
    "leaf_vals = ee.List.sequence(1, 20, 1)\n",
    "\n",
    "\n",
    "def leaves(t):\n",
    "    cartclass= ee.Classifier.smileCart(minLeafPopulation=t).train(\n",
    "      features= training, \n",
    "      classProperty= 'class', \n",
    "      inputProperties= predictionBands\n",
    "    )\n",
    "    \n",
    "    cartTesting = testing.classify(cartclass)\n",
    "    testAccuracy = cartTesting.errorMatrix('class', 'classification');\n",
    "    kappa= testAccuracy.kappa();       \n",
    "    return kappa\n",
    "\n",
    "\n",
    "kappa_leaf=leaf_vals.map(leaves)\n",
    "value_info = kappa_leaf.getInfo()\n",
    "\n",
    "# print(rmse_gama.getInfo())\n",
    "\n",
    "import pandas as pd\n",
    "df =pd.DataFrame(value_info,columns=['kappa'])\n",
    "df['leaf'] = leaf_vals.getInfo() \n",
    "\n",
    "ax =df.plot.line(x='leaf', \n",
    "             y='kappa',\n",
    "             title= 'Impact of minLeafPopulation in cart'\n",
    "             )\n",
    "ax.grid()"
   ]
  },
  {
   "cell_type": "code",
   "execution_count": null,
   "metadata": {},
   "outputs": [],
   "source": []
  },
  {
   "cell_type": "code",
   "execution_count": null,
   "metadata": {},
   "outputs": [],
   "source": []
  },
  {
   "cell_type": "code",
   "execution_count": null,
   "metadata": {},
   "outputs": [],
   "source": []
  }
 ],
 "metadata": {
  "kernelspec": {
   "display_name": "Python 3 (ipykernel)",
   "language": "python",
   "name": "python3"
  },
  "language_info": {
   "codemirror_mode": {
    "name": "ipython",
    "version": 3
   },
   "file_extension": ".py",
   "mimetype": "text/x-python",
   "name": "python",
   "nbconvert_exporter": "python",
   "pygments_lexer": "ipython3",
   "version": "3.9.7"
  },
  "latex_envs": {
   "LaTeX_envs_menu_present": true,
   "autoclose": false,
   "autocomplete": true,
   "bibliofile": "biblio.bib",
   "cite_by": "apalike",
   "current_citInitial": 1,
   "eqLabelWithNumbers": true,
   "eqNumInitial": 1,
   "hotkeys": {
    "equation": "Ctrl-E",
    "itemize": "Ctrl-I"
   },
   "labels_anchors": false,
   "latex_user_defs": false,
   "report_style_numbering": false,
   "user_envs_cfg": false
  },
  "widgets": {
   "application/vnd.jupyter.widget-state+json": {
    "state": {},
    "version_major": 2,
    "version_minor": 0
   }
  }
 },
 "nbformat": 4,
 "nbformat_minor": 4
}
